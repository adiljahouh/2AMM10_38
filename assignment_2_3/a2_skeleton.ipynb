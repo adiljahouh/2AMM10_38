{
 "cells": [
  {
   "cell_type": "markdown",
   "id": "730fd591",
   "metadata": {},
   "source": [
    "<a href=\"https://colab.research.google.com/github/vlamen/tue-deeplearning/blob/main/assignments/assignment_2_3/a2_skeleton.ipynb\" target=\"_parent\"><img src=\"https://colab.research.google.com/assets/colab-badge.svg\" alt=\"Open In Colab\"/></a>"
   ]
  },
  {
   "cell_type": "markdown",
   "id": "d32f8d18",
   "metadata": {},
   "source": [
    "# Group Number: 38\n",
    "\n",
    "# Student 1:\n",
    "\n",
    "# Student 2:\n",
    "\n",
    "# Student 3:"
   ]
  },
  {
   "cell_type": "markdown",
   "id": "faec2056",
   "metadata": {},
   "source": [
    "# Downloading Data and Preliminaries"
   ]
  },
  {
   "cell_type": "code",
   "execution_count": 25,
   "id": "7d0580a5",
   "metadata": {},
   "outputs": [],
   "source": [
    "import pickle\n",
    "import matplotlib.pyplot as plt\n",
    "import matplotlib\n",
    "import numpy as np\n",
    "from zipfile import ZipFile\n",
    "import requests\n",
    "import io\n",
    "import torch\n",
    "import torch.nn as nn"
   ]
  },
  {
   "cell_type": "code",
   "execution_count": 26,
   "id": "b0756591",
   "metadata": {},
   "outputs": [],
   "source": [
    "def load_zip(url):\n",
    "    response = requests.get(url)\n",
    "    response.raise_for_status()\n",
    "    zipf = ZipFile(io.BytesIO(response.content))\n",
    "    return {name: zipf.read(name) for name in zipf.namelist()}\n",
    "\n",
    "def load_array(zipfile, fn):\n",
    "    return np.load(io.BytesIO(zipfile[fn]))"
   ]
  },
  {
   "cell_type": "code",
   "execution_count": 27,
   "id": "bb77a4be",
   "metadata": {},
   "outputs": [
    {
     "name": "stdout",
     "output_type": "stream",
     "text": [
      "Shapes of the training data:\n",
      "\n",
      "positions: (10000, 4, 2, 5)\n",
      "velocities: (10000, 1, 2, 5)\n",
      "charges: (10000, 5, 1)\n"
     ]
    }
   ],
   "source": [
    "\"\"\"\n",
    "This cell loads the training, validation or test data as numpy arrays,\n",
    "with the positions, initial velocities and charge data of the particles.\n",
    "\n",
    "The position arrays are shaped as\n",
    "[simulation id, time point (corresponding to t = 0, 0.5, 1 or 1.5), x/y spatial dimension, particle id].\n",
    "\n",
    "The initial velocity arrays are shaped as\n",
    "[simulation id, 1 (corresponding to t=0), x/y spatial dimension, particle id].\n",
    "\n",
    "The charge arrays are shaped as [simulation id, particle id, 1]\n",
    "\n",
    "\"\"\"\n",
    "\n",
    "data = load_zip('https://surfdrive.surf.nl/files/index.php/s/OIgda2ZRG8v0eqB/download')\n",
    "\n",
    "features = ['positions', 'velocities', 'charges']\n",
    "    \n",
    "positions_train, velocities_train, charges_train = (load_array(data, f'data/train/{f}.npy') for f in features)\n",
    "positions_valid, velocities_valid, charges_valid = (load_array(data, f'data/valid/{f}.npy') for f in features)\n",
    "positions_test, velocities_test, charges_test = (load_array(data, f'data/test/{f}.npy') for f in features)\n",
    "\n",
    "print('Shapes of the training data:\\n')\n",
    "print(f'positions: {positions_train.shape}')\n",
    "print(f'velocities: {velocities_train.shape}')\n",
    "print(f'charges: {charges_train.shape}')"
   ]
  },
  {
   "cell_type": "code",
   "execution_count": 28,
   "id": "1c3ea4cb",
   "metadata": {},
   "outputs": [
    {
     "name": "stdout",
     "output_type": "stream",
     "text": [
      "An example of retrieving data from the arrays:\n",
      "\n",
      "\n",
      "In simulation 42 of the training set, particle 3 with charge -1.0 had coordinates [ 2.05159559 -1.46130851].\n",
      "The initial velocity of this particle was [ 0.28402364 -0.24784824].\n"
     ]
    }
   ],
   "source": [
    "print('An example of retrieving data from the arrays:\\n\\n')\n",
    "\n",
    "sim_idx = 42\n",
    "t_idx = 2  # t_idx 0, 1, 2, 3 corresponds to t=0, 0.5, 1 and 1.5 respectively\n",
    "spatial_idx = (0,1)  # corresponds to both x and y dimension\n",
    "particle_idx = 3  # corresponds to particle with index 3\n",
    "\n",
    "p = positions_train[sim_idx, t_idx, spatial_idx, particle_idx]\n",
    "v = velocities_train[sim_idx, 0, spatial_idx, particle_idx]  # note: this array contains only the inital velocity -> hence the 0\n",
    "c = charges_train[sim_idx, particle_idx, 0] \n",
    "\n",
    "print(\n",
    "    f'In simulation {sim_idx} of the training set, particle {particle_idx} with charge {c} had coordinates {p}.\\nThe initial velocity of this particle was {v}.'\n",
    ")"
   ]
  },
  {
   "cell_type": "code",
   "execution_count": 29,
   "id": "0ec4c801",
   "metadata": {},
   "outputs": [
    {
     "name": "stdout",
     "output_type": "stream",
     "text": [
      "(2,)\n"
     ]
    }
   ],
   "source": [
    "print(p.shape)"
   ]
  },
  {
   "cell_type": "code",
   "execution_count": 30,
   "id": "10a3438a",
   "metadata": {},
   "outputs": [
    {
     "name": "stdout",
     "output_type": "stream",
     "text": [
      "Overview of no. datapoints:\n",
      "\n",
      "10000 train, 2000 validation, 2000 test simulations\n"
     ]
    }
   ],
   "source": [
    "print('Overview of no. datapoints:\\n')\n",
    "\n",
    "print(f'{len(positions_train)} train, {len(positions_valid)} validation, {len(positions_test)} test simulations')"
   ]
  },
  {
   "cell_type": "code",
   "execution_count": 31,
   "id": "f9106543",
   "metadata": {},
   "outputs": [],
   "source": [
    "def plot_example(pos, vel):\n",
    "\n",
    "    fig = plt.figure()\n",
    "    axes = plt.gca()\n",
    "    axes.set_xlim([-5., 5.])\n",
    "    axes.set_ylim([-5., 5.])\n",
    "    colors = ['red', 'blue', 'green', 'orange', 'brown']\n",
    "    for i in range(pos.shape[-1]):\n",
    "        plt.plot(pos[0, 0, i], pos[0, 1, i], 'd', color=colors[i])\n",
    "        plt.plot(pos[-1, 0, i], pos[-1, 1, i], 'x', color=colors[i])\n",
    "        plt.plot([pos[0, 0, i], pos[0, 0, i] + vel[0, 0, i]], [pos[0, 1, i], pos[0, 1, i] + vel[0, 1, i]], '--', color=colors[i])\n",
    "    fig.set_size_inches(7, 7)\n",
    "    plt.xlim(np.min(pos)-1, np.max(pos) +1)\n",
    "    plt.ylim(np.min(pos)-1, np.max(pos) +1)\n",
    "    plt.plot([], [], 'd', color='black', label='initial position')\n",
    "    plt.plot([], [], 'x', color='black', label='final position')\n",
    "    plt.plot([], [], '--', color='black', label='initial velocity \\ndirection and magnitude')\n",
    "    plt.legend()\n",
    "    \n",
    "    plt.show()\n",
    "    return"
   ]
  },
  {
   "cell_type": "code",
   "execution_count": 32,
   "id": "d28681a6",
   "metadata": {},
   "outputs": [
    {
     "data": {
      "image/png": "[encoded data removed]",
      "text/plain": [
       "<Figure size 504x504 with 1 Axes>"
      ]
     },
     "metadata": {
      "needs_background": "light"
     },
     "output_type": "display_data"
    }
   ],
   "source": [
    "random_idx = np.random.randint(0, 10000)\n",
    "plot_example(positions_train[random_idx], velocities_train[random_idx])"
   ]
  },
  {
   "cell_type": "markdown",
   "id": "059b633c",
   "metadata": {},
   "source": [
    "# Data Handling and Preprocessing"
   ]
  },
  {
   "cell_type": "code",
   "execution_count": 33,
   "id": "e6ecb529",
   "metadata": {},
   "outputs": [],
   "source": [
    "# todo: Dataloader for velocity, charges, position in 1 dataset class\n",
    "from torch.utils.data import Dataset, DataLoader,TensorDataset\n",
    "class MyDataset(Dataset):\n",
    "    def __init__(self, veloc, pos, charges):\n",
    "        self.velocity = torch.FloatTensor(veloc)\n",
    "        self.charges = torch.FloatTensor(charges)\n",
    "        self.position = torch.FloatTensor(pos)\n",
    " \n",
    "    def __getitem__(self, index):\n",
    "        x = self.velocity[index]\n",
    "        y = self.charges[index]\n",
    "        z = self.position[index]\n",
    "        return x, y, z\n",
    "        # outputs list of 3 128 batches\n",
    "        # so [tensor(128, 1 , 4, 5), tensor(128, 1, 5)....]\n",
    "    def __len__(self):\n",
    "        return len(self.charges)"
   ]
  },
  {
   "cell_type": "code",
   "execution_count": 34,
   "id": "f8633eb8",
   "metadata": {},
   "outputs": [],
   "source": [
    "train_dataset=MyDataset(velocities_train, positions_train, charges_train)\n",
    "val_dataset = MyDataset(velocities_valid, positions_valid, charges_valid)\n",
    "\n",
    "train_loader = torch.utils.data.DataLoader(train_dataset, batch_size=128)\n",
    "val_loader = torch.utils.data.DataLoader(val_dataset, batch_size=128)"
   ]
  },
  {
   "cell_type": "code",
   "execution_count": 69,
   "id": "0a99a32b",
   "metadata": {},
   "outputs": [
    {
     "name": "stdout",
     "output_type": "stream",
     "text": [
      "torch.Size([128, 1, 2, 5]) torch.Size([128, 4, 2, 5]) torch.Size([128, 5, 1])\n",
      "veloc {sim, init_vel, x or y, ptxid} -  charge {sim, ptxid, charge} - pos {sim, time, x or y, ptxd}\n",
      "initial velocity tensor([-0.7878,  0.0267])\n",
      "initial position tensor([-1.9361, -0.2276])\n",
      "[128, 5, 1]\n"
     ]
    }
   ],
   "source": [
    "# check data\n",
    "for veloc, charges, position in train_loader:\n",
    "    print(veloc.shape, position.shape, charges.shape)\n",
    "    print(\"veloc {sim, init_vel, x or y, ptxid} -  charge {sim, ptxid, charge} - pos {sim, time, x or y, ptxd}\")\n",
    "    print(\"initial velocity\",  veloc[0, 0, :, 0])\n",
    "    print(\"initial position\", position[0, 0, :, 0])\n",
    "    print(list(charges.shape))\n",
    "    # we need to predict from init velocity\n",
    "    break"
   ]
  },
  {
   "cell_type": "markdown",
   "id": "18b2874d",
   "metadata": {},
   "source": [
    "# Model Implementation"
   ]
  },
  {
   "cell_type": "code",
   "execution_count": 82,
   "id": "66774050",
   "metadata": {},
   "outputs": [
    {
     "name": "stdout",
     "output_type": "stream",
     "text": [
      "tensor(0.0267)\n",
      "tensor(1.3331)\n",
      "tensor(-0.6657)\n",
      "tensor(1.3261)\n",
      "tensor(-0.0553)\n",
      "tensor(0.7356)\n",
      "tensor(0.3854)\n",
      "tensor(0.6183)\n",
      "tensor(-0.6418)\n",
      "tensor(-1.5861)\n",
      "tensor(1.3055)\n",
      "tensor(0.2554)\n",
      "tensor(0.3869)\n",
      "tensor(-0.1922)\n",
      "tensor(-0.7341)\n",
      "tensor(1.9666)\n",
      "tensor(0.1123)\n",
      "tensor(-0.0763)\n",
      "tensor(-0.0293)\n",
      "tensor(-0.6898)\n",
      "tensor(0.1163)\n",
      "tensor(0.5168)\n",
      "tensor(1.0266)\n",
      "tensor(-0.2235)\n",
      "tensor(1.1158)\n",
      "tensor(1.1962)\n",
      "tensor(-1.3441)\n",
      "tensor(-0.6416)\n",
      "tensor(-2.3449)\n",
      "tensor(0.6827)\n",
      "tensor(-1.3712)\n",
      "tensor(1.0296)\n",
      "tensor(-0.5284)\n",
      "tensor(0.9241)\n",
      "tensor(0.1104)\n",
      "tensor(-0.8981)\n",
      "tensor(-0.8375)\n",
      "tensor(0.5335)\n",
      "tensor(-0.1515)\n",
      "tensor(0.8329)\n",
      "tensor(-0.0212)\n",
      "tensor(-0.7082)\n",
      "tensor(-0.6007)\n",
      "tensor(-0.9645)\n",
      "tensor(-1.0657)\n",
      "tensor(0.1578)\n",
      "tensor(0.4936)\n",
      "tensor(-0.4201)\n",
      "tensor(0.1239)\n",
      "tensor(0.0419)\n",
      "tensor(-0.3220)\n",
      "tensor(0.5188)\n",
      "tensor(1.6574)\n",
      "tensor(-0.2569)\n",
      "tensor(-0.0693)\n",
      "tensor(-0.1995)\n",
      "tensor(-0.7778)\n",
      "tensor(0.4720)\n",
      "tensor(0.0492)\n",
      "tensor(-0.5965)\n",
      "tensor(-1.1331)\n",
      "tensor(0.4480)\n",
      "tensor(-0.9137)\n",
      "tensor(0.7330)\n",
      "tensor(-0.6635)\n",
      "tensor(-0.5232)\n",
      "tensor(-0.3465)\n",
      "tensor(-1.1411)\n",
      "tensor(-0.6512)\n",
      "tensor(-1.9982)\n",
      "tensor(-0.1168)\n",
      "tensor(0.9989)\n",
      "tensor(0.3657)\n",
      "tensor(0.1711)\n",
      "tensor(0.2230)\n",
      "tensor(0.6245)\n",
      "tensor(-0.5506)\n",
      "tensor(1.5346)\n",
      "tensor(0.1357)\n"
     ]
    }
   ],
   "source": [
    "#todo\n",
    "# pass veloc, pos from t =0  to predict\n",
    "count = 0 \n",
    "for veloc, charges, position in train_loader:\n",
    "    v = veloc[0, 0, 1, 0]\n",
    "    # p = position[0, 0, 1, 0]\n",
    "    # c = charges[0, 0, 0]\n",
    "    # print(torch.cat([v.view(1), p.view(1), c.view(1)], dim=0).shape)\n",
    "    # print(torch.tensor([p]))\n",
    "\n",
    "    size = list(veloc.shape)\n",
    "    print(v)"
   ]
  },
  {
   "cell_type": "code",
   "execution_count": 42,
   "id": "dde5ed84",
   "metadata": {},
   "outputs": [],
   "source": [
    "# Simple NN network for value prediction\n",
    "import numpy as np\n",
    "import torch\n",
    "from torch import nn\n",
    "import torch.nn.functional as F\n",
    "import torch.optim as optim\n",
    "class SimpleModel(nn.Module):\n",
    "    def __init__(self, input_dim):\n",
    "        super(SimpleModel, self).__init__()\n",
    "        self.layer1 = nn.Linear(input_dim,3)\n",
    "        self.layer2 = nn.Linear(3, 3)\n",
    "        self.layer3 = nn.Linear(3, 1)\n",
    "        # self.drop = nn.Dropout(0.2)\n",
    "        \n",
    "        \n",
    "    def forward(self, x):\n",
    "        x = F.relu(self.layer1(x))\n",
    "        # x = self.drop(x)\n",
    "        x = F.relu(self.layer2(x))\n",
    "        # x = self.drop(x)\n",
    "        x = F.relu(self.layer3(x))\n",
    "        return x"
   ]
  },
  {
   "cell_type": "markdown",
   "id": "dea70d73",
   "metadata": {},
   "source": [
    "# Model Training REGULAR NEURAL NET"
   ]
  },
  {
   "cell_type": "code",
   "execution_count": 77,
   "id": "3af520ae",
   "metadata": {},
   "outputs": [],
   "source": [
    "# NN MODEL\n",
    "def train(model, train_loader, n_epochs, optimizer, criterion):\n",
    "    train_losses = []\n",
    "    val_losses = []\n",
    "    for epoch in range(1, n_epochs + 1):\n",
    "        running_loss = 0.0\n",
    "        model.train()\n",
    "\n",
    "        for veloc, charges, position in train_loader:\n",
    "            size = list(veloc.shape)\n",
    "            for sim in range(size[0]): # batch size per batch\n",
    "                pt_loss = 0.0\n",
    "                for ptxid in range(5):\n",
    "                    for coordinate_type in range(2):\n",
    "                        init_veloc_xy = veloc[sim, 0, coordinate_type, ptxid]\n",
    "                        init_pos_xy = position[sim, 0, coordinate_type, ptxid] \n",
    "                        charge = charges[sim, ptxid, 0]\n",
    "                        x = torch.cat([init_pos_xy.view(1), init_veloc_xy.view(1), charge.view(1)], dim=0) # append pos, veloc, charge to 1 tensor\n",
    "                        y = torch.tensor([position[sim, 1, coordinate_type, ptxid]])\n",
    "                        optimizer.zero_grad()\n",
    "                        outputs = model(x)\n",
    "                        loss = criterion(outputs, y)\n",
    "                        pt_loss += loss.item()\n",
    "                        loss.backward()\n",
    "                        optimizer.step()\n",
    "                pt_loss = pt_loss/10\n",
    "                running_loss += pt_loss\n",
    "                    \n",
    "        avg_train_loss = running_loss / (len(train_loader) * 128) # batch size\n",
    "        train_losses.append(avg_train_loss)\n",
    "\n",
    "        val_running_loss = 0.0\n",
    "        with torch.no_grad():\n",
    "            model.eval()\n",
    "            for veloc, charges, position in val_loader:\n",
    "                size = list(veloc.shape)\n",
    "                for sim in range(size[0]):\n",
    "                    val_pt_loss = 0.0\n",
    "                    for ptxid in range(5):\n",
    "                        for coordinate_type in range(2):\n",
    "                            init_veloc_xy = veloc[sim, 0, coordinate_type, ptxid] # list\n",
    "                            init_pos_xy = position[sim, 0, coordinate_type, ptxid] #list\n",
    "                            charge = charges[sim, ptxid, 0]\n",
    "                            x = torch.cat([init_pos_xy.view(1), init_veloc_xy.view(1), charge.view(1)], dim=0)\n",
    "                            y = torch.tensor([position[sim, 1, coordinate_type, ptxid]])\n",
    "                            outputs = model(x)\n",
    "                            loss = criterion(outputs, y)\n",
    "                            val_pt_loss += loss.item()\n",
    "                    avg_pt_loss = val_pt_loss/10\n",
    "                    val_running_loss += avg_pt_loss\n",
    "        avg_val_loss = val_running_loss / (len(val_loader) * 128) # batch size\n",
    "        val_losses.append(avg_val_loss)\n",
    "\n",
    "    return train_losses, val_losses"
   ]
  },
  {
   "cell_type": "code",
   "execution_count": 78,
   "id": "e95af5f9",
   "metadata": {},
   "outputs": [],
   "source": [
    "learning_rate = 1e-3\n",
    "weight_decay = 1e-6\n",
    "\n",
    "loss_fn = nn.MSELoss(reduction=\"mean\") # can do MSE/MAE depends on outliers\n",
    "model = SimpleModel(input_dim=3)\n",
    "optimizer = optim.Adam(model.parameters(), lr=learning_rate, weight_decay=weight_decay)\n",
    "\n",
    "trainloss, valloss = train(model= model, train_loader= train_loader, n_epochs=1, optimizer= optimizer, criterion=loss_fn)"
   ]
  },
  {
   "cell_type": "code",
   "execution_count": 79,
   "id": "07e03ddf",
   "metadata": {},
   "outputs": [
    {
     "name": "stdout",
     "output_type": "stream",
     "text": [
      "[7.593978354389448]\n",
      "[7.25305592070695]\n"
     ]
    }
   ],
   "source": [
    "print(trainloss)\n",
    "print(valloss)"
   ]
  },
  {
   "cell_type": "markdown",
   "id": "068baf21",
   "metadata": {},
   "source": [
    "## RNN TEST"
   ]
  },
  {
   "cell_type": "code",
   "execution_count": null,
   "id": "6c956ca0",
   "metadata": {},
   "outputs": [],
   "source": [
    "# LSTmodel RNN\n",
    "# NOT FINISHED\n",
    "#####\n",
    "#https://towardsdatascience.com/building-rnn-lstm-and-gru-for-time-series-using-pytorch-a46e5b094e7b\n",
    "####\n",
    "class LSTMModel(nn.Module):\n",
    "    def __init__(self, input_dim, hidden_dim, layer_dim, output_dim, dropout_prob):\n",
    "        super(LSTMModel, self).__init__()\n",
    "\n",
    "        # Defining the number of layers and the nodes in each layer\n",
    "        self.hidden_dim = hidden_dim\n",
    "        self.layer_dim = layer_dim\n",
    "\n",
    "        # LSTM layers\n",
    "        self.lstm = nn.LSTM(\n",
    "            input_dim, hidden_dim, layer_dim, batch_first=True, dropout=dropout_prob\n",
    "        )\n",
    "\n",
    "        # Fully connected layer\n",
    "        self.fc = nn.Linear(hidden_dim, output_dim)\n",
    "\n",
    "    def forward(self, x):\n",
    "        # Initializing hidden state for first input with zeros\n",
    "        h0 = torch.zeros(self.layer_dim, x.size(0), self.hidden_dim).requires_grad_()\n",
    "\n",
    "        # Initializing cell state for first input with zeros\n",
    "        c0 = torch.zeros(self.layer_dim, x.size(0), self.hidden_dim).requires_grad_()\n",
    "\n",
    "        # We need to detach as we are doing truncated backpropagation through time (BPTT)\n",
    "        # If we don't, we'll backprop all the way to the start even after going through another batch\n",
    "        # Forward propagation by passing in the input, hidden state, and cell state into the model\n",
    "        out, (hn, cn) = self.lstm(x, (h0.detach(), c0.detach()))\n",
    "\n",
    "        # Reshaping the outputs in the shape of (batch_size, seq_length, hidden_size)\n",
    "        # so that it can fit into the fully connected layer\n",
    "        out = out[:, -1, :]\n",
    "\n",
    "        # Convert the final state to our desired output shape (batch_size, output_dim)\n",
    "        out = self.fc(out)\n",
    "\n",
    "        return out"
   ]
  },
  {
   "cell_type": "code",
   "execution_count": null,
   "metadata": {},
   "outputs": [],
   "source": [
    "\n",
    "\n",
    "input_dim = 3 #len(X_train.columns)\n",
    "output_dim = 1\n",
    "hidden_dim = 64\n",
    "layer_dim = 3\n",
    "batch_size = 64\n",
    "dropout = 0.2\n",
    "n_epochs = 100\n",
    "learning_rate = 1e-3\n",
    "weight_decay = 1e-6\n",
    "\n",
    "loss_fn = nn.MSELoss(reduction=\"mean\") # can do MSE/MAE depends on outliers\n",
    "RNN_network = LSTMModel(input_dim, hidden_dim, layer_dim, output_dim, dropout)\n",
    "optimizer = optim.Adam(RNN_network.parameters(), lr=learning_rate, weight_decay=weight_decay)\n"
   ]
  },
  {
   "cell_type": "markdown",
   "id": "d5fb3b29",
   "metadata": {},
   "source": [
    "# Evaluation"
   ]
  },
  {
   "cell_type": "code",
   "execution_count": null,
   "id": "bf5fa1b4",
   "metadata": {},
   "outputs": [],
   "source": [
    "#todo"
   ]
  },
  {
   "cell_type": "code",
   "execution_count": null,
   "id": "2280031f",
   "metadata": {},
   "outputs": [],
   "source": []
  },
  {
   "cell_type": "code",
   "execution_count": null,
   "id": "3a8240f1",
   "metadata": {},
   "outputs": [],
   "source": []
  }
 ],
 "metadata": {
  "interpreter": {
   "hash": "4158c455f6fbd238463d225e32374cd628fb465de0e99af1b601eff60f49c402"
  },
  "kernelspec": {
   "display_name": "Python 3.7.1 ('base')",
   "language": "python",
   "name": "python3"
  },
  "language_info": {
   "codemirror_mode": {
    "name": "ipython",
    "version": 3
   },
   "file_extension": ".py",
   "mimetype": "text/x-python",
   "name": "python",
   "nbconvert_exporter": "python",
   "pygments_lexer": "ipython3",
   "version": "3.7.1"
  }
 },
 "nbformat": 4,
 "nbformat_minor": 5
}
