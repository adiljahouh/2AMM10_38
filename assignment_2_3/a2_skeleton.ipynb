{
 "cells": [
  {
   "cell_type": "markdown",
   "id": "730fd591",
   "metadata": {},
   "source": [
    "<a href=\"https://colab.research.google.com/github/vlamen/tue-deeplearning/blob/main/assignments/assignment_2_3/a2_skeleton.ipynb\" target=\"_parent\"><img src=\"https://colab.research.google.com/assets/colab-badge.svg\" alt=\"Open In Colab\"/></a>"
   ]
  },
  {
   "cell_type": "markdown",
   "id": "d32f8d18",
   "metadata": {},
   "source": [
    "# Group Number: 38\n",
    "\n",
    "# Student 1:\n",
    "\n",
    "# Student 2:\n",
    "\n",
    "# Student 3:"
   ]
  },
  {
   "cell_type": "markdown",
   "id": "faec2056",
   "metadata": {},
   "source": [
    "# Downloading Data and Preliminaries"
   ]
  },
  {
   "cell_type": "code",
   "execution_count": 313,
   "id": "7d0580a5",
   "metadata": {},
   "outputs": [],
   "source": [
    "import pickle\n",
    "import matplotlib.pyplot as plt\n",
    "import matplotlib\n",
    "import numpy as np\n",
    "from zipfile import ZipFile\n",
    "import requests\n",
    "import io\n",
    "import torch\n",
    "import torch.nn as nn"
   ]
  },
  {
   "cell_type": "code",
   "execution_count": 314,
   "id": "b0756591",
   "metadata": {},
   "outputs": [],
   "source": [
    "def load_zip(url):\n",
    "    response = requests.get(url)\n",
    "    response.raise_for_status()\n",
    "    zipf = ZipFile(io.BytesIO(response.content))\n",
    "    return {name: zipf.read(name) for name in zipf.namelist()}\n",
    "\n",
    "def load_array(zipfile, fn):\n",
    "    return np.load(io.BytesIO(zipfile[fn]))"
   ]
  },
  {
   "cell_type": "code",
   "execution_count": 315,
   "id": "bb77a4be",
   "metadata": {},
   "outputs": [
    {
     "name": "stdout",
     "output_type": "stream",
     "text": [
      "Shapes of the training data:\n",
      "\n",
      "positions: (10000, 4, 2, 5)\n",
      "velocities: (10000, 1, 2, 5)\n",
      "charges: (10000, 5, 1)\n"
     ]
    }
   ],
   "source": [
    "\"\"\"\n",
    "This cell loads the training, validation or test data as numpy arrays,\n",
    "with the positions, initial velocities and charge data of the particles.\n",
    "\n",
    "The position arrays are shaped as\n",
    "[simulation id, time point (corresponding to t = 0, 0.5, 1 or 1.5), x/y spatial dimension, particle id].\n",
    "\n",
    "The initial velocity arrays are shaped as\n",
    "[simulation id, 1 (corresponding to t=0), x/y spatial dimension, particle id].\n",
    "\n",
    "The charge arrays are shaped as [simulation id, particle id, 1]\n",
    "\n",
    "\"\"\"\n",
    "\n",
    "data = load_zip('https://surfdrive.surf.nl/files/index.php/s/OIgda2ZRG8v0eqB/download')\n",
    "\n",
    "features = ['positions', 'velocities', 'charges']\n",
    "    \n",
    "positions_train, velocities_train, charges_train = (load_array(data, f'data/train/{f}.npy') for f in features)\n",
    "positions_valid, velocities_valid, charges_valid = (load_array(data, f'data/valid/{f}.npy') for f in features)\n",
    "positions_test, velocities_test, charges_test = (load_array(data, f'data/test/{f}.npy') for f in features)\n",
    "\n",
    "print('Shapes of the training data:\\n')\n",
    "print(f'positions: {positions_train.shape}')\n",
    "print(f'velocities: {velocities_train.shape}')\n",
    "print(f'charges: {charges_train.shape}')"
   ]
  },
  {
   "cell_type": "code",
   "execution_count": 316,
   "id": "1c3ea4cb",
   "metadata": {},
   "outputs": [
    {
     "name": "stdout",
     "output_type": "stream",
     "text": [
      "An example of retrieving data from the arrays:\n",
      "\n",
      "\n",
      "In simulation 42 of the training set, particle 3 with charge -1.0 had coordinates [ 2.05159559 -1.46130851].\n",
      "The initial velocity of this particle was [ 0.28402364 -0.24784824].\n"
     ]
    }
   ],
   "source": [
    "print('An example of retrieving data from the arrays:\\n\\n')\n",
    "\n",
    "sim_idx = 42\n",
    "t_idx = 2  # t_idx 0, 1, 2, 3 corresponds to t=0, 0.5, 1 and 1.5 respectively\n",
    "spatial_idx = (0,1)  # corresponds to both x and y dimension\n",
    "particle_idx = 3  # corresponds to particle with index 3\n",
    "\n",
    "p = positions_train[sim_idx, t_idx, spatial_idx, particle_idx]\n",
    "v = velocities_train[sim_idx, 0, spatial_idx, particle_idx]  # note: this array contains only the inital velocity -> hence the 0\n",
    "c = charges_train[sim_idx, particle_idx, 0] \n",
    "\n",
    "print(\n",
    "    f'In simulation {sim_idx} of the training set, particle {particle_idx} with charge {c} had coordinates {p}.\\nThe initial velocity of this particle was {v}.'\n",
    ")"
   ]
  },
  {
   "cell_type": "code",
   "execution_count": 317,
   "id": "0ec4c801",
   "metadata": {},
   "outputs": [
    {
     "name": "stdout",
     "output_type": "stream",
     "text": [
      "(2,)\n"
     ]
    }
   ],
   "source": [
    "print(p.shape)"
   ]
  },
  {
   "cell_type": "code",
   "execution_count": 318,
   "id": "10a3438a",
   "metadata": {},
   "outputs": [
    {
     "name": "stdout",
     "output_type": "stream",
     "text": [
      "Overview of no. datapoints:\n",
      "\n",
      "10000 train, 2000 validation, 2000 test simulations\n"
     ]
    }
   ],
   "source": [
    "print('Overview of no. datapoints:\\n')\n",
    "\n",
    "print(f'{len(positions_train)} train, {len(positions_valid)} validation, {len(positions_test)} test simulations')"
   ]
  },
  {
   "cell_type": "code",
   "execution_count": 319,
   "id": "f9106543",
   "metadata": {},
   "outputs": [],
   "source": [
    "def plot_example(pos, vel):\n",
    "\n",
    "    fig = plt.figure()\n",
    "    axes = plt.gca()\n",
    "    axes.set_xlim([-5., 5.])\n",
    "    axes.set_ylim([-5., 5.])\n",
    "    colors = ['red', 'blue', 'green', 'orange', 'brown']\n",
    "    for i in range(pos.shape[-1]):\n",
    "        plt.plot(pos[0, 0, i], pos[0, 1, i], 'd', color=colors[i])\n",
    "        plt.plot(pos[-1, 0, i], pos[-1, 1, i], 'x', color=colors[i])\n",
    "        plt.plot([pos[0, 0, i], pos[0, 0, i] + vel[0, 0, i]], [pos[0, 1, i], pos[0, 1, i] + vel[0, 1, i]], '--', color=colors[i])\n",
    "    fig.set_size_inches(7, 7)\n",
    "    plt.xlim(np.min(pos)-1, np.max(pos) +1)\n",
    "    plt.ylim(np.min(pos)-1, np.max(pos) +1)\n",
    "    plt.plot([], [], 'd', color='black', label='initial position')\n",
    "    plt.plot([], [], 'x', color='black', label='final position')\n",
    "    plt.plot([], [], '--', color='black', label='initial velocity \\ndirection and magnitude')\n",
    "    plt.legend()\n",
    "    \n",
    "    plt.show()\n",
    "    return"
   ]
  },
  {
   "cell_type": "code",
   "execution_count": 320,
   "id": "d28681a6",
   "metadata": {},
   "outputs": [
    {
     "data": {
      "image/png": "[encoded data removed]",
      "text/plain": [
       "<Figure size 504x504 with 1 Axes>"
      ]
     },
     "metadata": {
      "needs_background": "light"
     },
     "output_type": "display_data"
    }
   ],
   "source": [
    "random_idx = np.random.randint(0, 10000)\n",
    "plot_example(positions_train[random_idx], velocities_train[random_idx])"
   ]
  },
  {
   "cell_type": "markdown",
   "id": "059b633c",
   "metadata": {},
   "source": [
    "# Data Handling and Preprocessing"
   ]
  },
  {
   "cell_type": "code",
   "execution_count": 371,
   "id": "e6ecb529",
   "metadata": {},
   "outputs": [],
   "source": [
    "from torch.utils.data import Dataset, DataLoader,TensorDataset\n",
    "class MyDataset(Dataset):\n",
    "    def __init__(self, veloc, pos, charges,time_id=1):\n",
    "        self.velocity = torch.FloatTensor(veloc)\n",
    "        self.charges = torch.FloatTensor(charges)\n",
    "        self.position = torch.FloatTensor(pos)\n",
    "        self.time_id = time_id\n",
    "\n",
    "    def __getitem__(self, index):\n",
    "        x_1 = self.velocity[index] #t=0 by default\n",
    "        x_2 = self.charges[index] #t=0 by default\n",
    "        x_2 = x_2.reshape(-1, 1, 5) # reshape from 128, 5, 1 -> 128, 1, 5\n",
    "        x_2 = x_2.repeat(1, 2, 1) # 128, 2, 5\n",
    "        x_3 = self.position[index, 0].view(1,2,5) # input pos of t=0\n",
    "        reshaped_array = torch.cat([x_1, x_2, x_3], dim=1)\n",
    "        y = self.position[index, self.time_id].view(1,2,5) # output pos of t=time_id\n",
    "        return reshaped_array, y\n",
    "\n",
    "    def __len__(self):\n",
    "        return len(self.charges)"
   ]
  },
  {
   "cell_type": "code",
   "execution_count": 372,
   "id": "f8633eb8",
   "metadata": {},
   "outputs": [],
   "source": [
    "train_dataset=MyDataset(velocities_train, positions_train, charges_train, 1)\n",
    "val_dataset = MyDataset(velocities_valid, positions_valid, charges_valid, 1)\n",
    "\n",
    "train_loader = torch.utils.data.DataLoader(train_dataset, batch_size=128)\n",
    "val_loader = torch.utils.data.DataLoader(val_dataset, batch_size=128)"
   ]
  },
  {
   "cell_type": "code",
   "execution_count": 468,
   "id": "ccd42ee9",
   "metadata": {},
   "outputs": [
    {
     "name": "stdout",
     "output_type": "stream",
     "text": [
      "veloc {sim, init_vel, x or y, ptxid} -  charge {sim, ptxid, charge} - pos {sim, time, x or y, ptxd}\n",
      "torch.Size([128, 1, 6, 5])\n"
     ]
    }
   ],
   "source": [
    "# see shapes\n",
    "for x, y in train_loader:\n",
    "    # # print(x[0, :, :, :])\n",
    "    # print(y[0, :, :, :])\n",
    "    # print(y[:, :, :, :].view(128, 10)) # flattened\n",
    "    # print(\"Shape of tensor x: \", x.shape)\n",
    "    # print(\"Shape of tensor y: \", y.shape)\n",
    "    # break\n",
    "    print(\"veloc {sim, init_vel, x or y, ptxid} -  charge {sim, ptxid, charge} - pos {sim, time, x or y, ptxd}\")\n",
    "\n",
    "    print(x.shape)\n",
    "    break\n",
    "# normal nn  fix losses\n",
    "# fix dataloader done\n",
    "# data augmentation (flip the order of ptxid)\n",
    "# normalizing the data"
   ]
  },
  {
   "cell_type": "markdown",
   "id": "18b2874d",
   "metadata": {},
   "source": [
    "# Model Implementation"
   ]
  },
  {
   "cell_type": "code",
   "execution_count": 432,
   "id": "dde5ed84",
   "metadata": {},
   "outputs": [],
   "source": [
    "# Simple NN network for value prediction\n",
    "import numpy as np\n",
    "import torch\n",
    "from torch import nn\n",
    "import torch.nn.functional as F\n",
    "import torch.optim as optim\n",
    "class SimpleModel(nn.Module):\n",
    "    def __init__(self, input_dim):\n",
    "        super(SimpleModel, self).__init__()\n",
    "        self.layer1 = nn.Linear(input_dim,30)\n",
    "        self.layer2 = nn.Linear(30, 30)\n",
    "        self.layer3 = nn.Linear(30, 10)\n",
    "        # self.drop = nn.Dropout(0.2)\n",
    "        \n",
    "        \n",
    "    def forward(self, x):\n",
    "        x = F.relu(self.layer1(x))\n",
    "        # x = self.drop(x)\n",
    "        x = F.relu(self.layer2(x))\n",
    "        # x = self.drop(x)\n",
    "        x = F.relu(self.layer3(x))\n",
    "        return x"
   ]
  },
  {
   "cell_type": "markdown",
   "id": "dea70d73",
   "metadata": {},
   "source": [
    "# Model Training REGULAR NEURAL NET"
   ]
  },
  {
   "cell_type": "code",
   "execution_count": 463,
   "id": "3af520ae",
   "metadata": {},
   "outputs": [],
   "source": [
    "# NN MODEL\n",
    "from tqdm import tqdm\n",
    "def train(model, train_loader, n_epochs, optimizer, criterion):\n",
    "    train_losses = []\n",
    "    val_losses = []\n",
    "    for _ in range(1, n_epochs + 1):\n",
    "        model.train()\n",
    "\n",
    "        for x, y in tqdm(train_loader):\n",
    "            try:\n",
    "                y = y.view(128, 10)\n",
    "                x = x.view(128, 30)\n",
    "            except RuntimeError:\n",
    "                y = y.view(16, 10)\n",
    "                x = x.view(16, 30)\n",
    "            batch_loss = 0.0\n",
    "            optimizer.zero_grad()\n",
    "            outputs = model(x)\n",
    "            # print(outputs.shape)\n",
    "            # print(y.shape)\n",
    "            loss = criterion(outputs, y)\n",
    "            batch_loss += loss.item()\n",
    "            loss.backward()\n",
    "            optimizer.step()\n",
    "            train_losses.append(batch_loss)\n",
    "    # pt_loss = pt_loss/10\n",
    "    # running_loss += pt_loss\n",
    "            \n",
    "        # avg_train_loss = running_loss / (len(train_loader) * 128) # batch size\n",
    "        # train_losses.append(avg_train_loss)\n",
    "\n",
    "        with torch.no_grad():\n",
    "            model.eval()\n",
    "            for x, y in val_loader:\n",
    "                try:\n",
    "                    y = y.view(128, 10)\n",
    "                    x = x.view(128, 30)\n",
    "                except RuntimeError:\n",
    "                    y = y.view(80, 10)\n",
    "                    x = x.view(80, 30)\n",
    "                val_batch_loss = 0.0\n",
    "                outputs = model(x)\n",
    "                loss = criterion(outputs, y)\n",
    "                val_batch_loss += loss.item()\n",
    "                val_losses.append(val_batch_loss)\n",
    "        # avg_val_loss = val_running_loss / (len(val_loader) * 128) # batch size\n",
    "        # val_losses.append(avg_val_loss)\n",
    "\n",
    "    return train_losses, val_losses"
   ]
  },
  {
   "cell_type": "code",
   "execution_count": 466,
   "id": "e95af5f9",
   "metadata": {},
   "outputs": [
    {
     "name": "stderr",
     "output_type": "stream",
     "text": [
      "100%|██████████| 79/79 [00:00<00:00, 113.76it/s]\n",
      "100%|██████████| 79/79 [00:00<00:00, 134.30it/s]\n",
      "100%|██████████| 79/79 [00:00<00:00, 99.90it/s] \n",
      "100%|██████████| 79/79 [00:00<00:00, 117.29it/s]\n",
      "100%|██████████| 79/79 [00:00<00:00, 115.27it/s]\n"
     ]
    },
    {
     "name": "stdout",
     "output_type": "stream",
     "text": [
      "[7.47725772857666, 7.5777459144592285, 7.380753517150879, 6.968458652496338, 8.333105087280273, 6.919573783874512, 7.725271701812744, 7.3199920654296875, 7.44692850112915, 7.289645195007324, 7.968747138977051, 7.200430870056152, 7.472422122955322, 7.5488715171813965, 7.678347587585449, 6.991223335266113, 8.84653377532959, 7.3855791091918945, 7.9915595054626465, 7.349554538726807, 7.750024318695068, 7.157186985015869, 7.8431854248046875, 7.283463478088379, 8.334020614624023, 8.226359367370605, 7.557273864746094, 6.994431972503662, 7.964156150817871, 7.804059028625488, 7.60463809967041, 6.796426296234131, 7.558619022369385, 6.068477153778076, 8.594959259033203, 6.871577262878418, 7.216228485107422, 8.390767097473145, 8.438854217529297, 7.206077575683594, 7.399024963378906, 6.483361721038818, 6.9916534423828125, 6.824759006500244, 7.1168532371521, 7.011621952056885, 7.3821916580200195, 6.395052909851074, 6.845751762390137, 7.138705253601074, 6.497150421142578, 7.034229278564453, 7.277928352355957, 7.463138580322266, 6.703218936920166, 5.601703643798828, 7.246696472167969, 7.565087795257568, 6.05869197845459, 7.635556221008301, 6.552528381347656, 7.024328708648682, 6.948993682861328, 6.729669094085693, 5.599403381347656, 5.439944267272949, 6.6434173583984375, 6.9702467918396, 6.863709449768066, 5.517718315124512, 6.88290548324585, 6.641605377197266, 6.252407073974609, 7.74099588394165, 6.391932487487793, 6.571203708648682, 6.272993564605713, 5.929023742675781, 7.331108093261719, 6.2026686668396, 6.294731140136719, 6.048750400543213, 5.639706611633301, 6.823178768157959, 5.719333171844482, 6.277215003967285, 6.073589324951172, 6.077454566955566, 5.845181941986084, 6.432039737701416, 5.819386959075928, 5.881563663482666, 6.197762966156006, 6.036314487457275, 5.692043781280518, 7.033320426940918, 5.742586135864258, 6.449873447418213, 5.644978046417236, 6.098694801330566, 5.714746475219727, 6.180542469024658, 6.008996963500977, 6.4798994064331055, 6.734446048736572, 6.027961254119873, 5.663907051086426, 6.151308536529541, 6.153172492980957, 6.165890693664551, 5.288260459899902, 6.086155891418457, 4.72054386138916, 6.649886131286621, 5.371315002441406, 5.714852333068848, 6.501501560211182, 6.507061004638672, 5.453560829162598, 5.602753162384033, 5.195662498474121, 5.494210243225098, 5.316222190856934, 5.647420883178711, 5.290656089782715, 5.452935218811035, 4.878415107727051, 5.326779842376709, 5.529280662536621, 4.958373069763184, 5.3630876541137695, 5.73420524597168, 5.800755023956299, 5.141814708709717, 4.358240604400635, 5.5152411460876465, 5.878195762634277, 4.608405113220215, 5.807013034820557, 5.094486713409424, 5.478687286376953, 5.288607120513916, 5.209270477294922, 4.353585243225098, 4.2715654373168945, 5.144900321960449, 5.341936111450195, 5.315044403076172, 4.252741813659668, 5.39453125, 5.163186073303223, 4.920836448669434, 6.193571090698242, 5.036452293395996, 5.198086261749268, 4.994710445404053, 4.666118621826172, 5.699097633361816, 4.858443737030029, 4.965165138244629, 4.7715067863464355, 4.632108211517334, 5.414924621582031, 4.456554889678955, 4.949411392211914, 4.926209449768066, 5.128612995147705, 4.624558925628662, 5.328210830688477, 4.637964248657227, 4.6036553382873535, 5.078494071960449, 4.9427900314331055, 4.6367340087890625, 5.717784404754639, 4.506842613220215, 5.312474250793457, 4.512125492095947, 4.794875621795654, 4.619009971618652, 4.999215126037598, 5.030655860900879, 5.296199798583984, 5.610019207000732, 5.089478969573975, 4.704970359802246, 5.074851989746094, 5.321376800537109, 5.129965782165527, 4.433297634124756, 5.114390850067139, 3.8991973400115967, 5.575533866882324, 4.548510551452637, 4.798862457275391, 5.527039527893066, 5.378571510314941, 4.6453094482421875, 4.690640449523926, 4.516469478607178, 4.670624732971191, 4.543845176696777, 4.850618839263916, 4.469997882843018, 4.528623580932617, 4.232939720153809, 4.53284215927124, 4.675930023193359, 4.185484409332275, 4.664628028869629, 5.0143256187438965, 5.0922088623046875, 4.430130481719971, 3.9006409645080566, 4.840513229370117, 5.144062519073486, 4.066088676452637, 4.93330717086792, 4.425836086273193, 4.909482002258301, 4.618602275848389, 4.571768283843994, 3.914529800415039, 3.813915967941284, 4.50470495223999, 4.7291765213012695, 4.782933235168457, 3.785015821456909, 4.841334342956543, 4.64951229095459, 4.436516761779785, 5.532776832580566, 4.506054878234863, 4.7134599685668945, 4.562729358673096, 4.1859941482543945, 5.158227920532227, 4.289669513702393, 4.41957426071167, 4.268322467803955, 4.230813503265381, 4.981973171234131, 4.062560081481934, 4.483608245849609, 4.486032962799072, 4.747753620147705, 4.262045860290527, 4.9982686042785645, 4.196709156036377, 4.253891944885254, 4.704194068908691, 4.553950786590576, 4.287976264953613, 5.310849189758301, 4.087881088256836, 4.955384254455566, 4.176363468170166, 4.452357292175293, 4.2886881828308105, 4.69704532623291, 4.717469692230225, 4.9446210861206055, 5.231706619262695, 4.727269172668457, 4.411783218383789, 4.744603157043457, 5.061334133148193, 4.797166347503662, 4.220322132110596, 4.849418640136719, 3.6799418926239014, 5.298233509063721, 4.338229179382324, 4.542341709136963, 5.273516654968262, 5.102095603942871, 4.458913803100586, 4.487060546875, 4.3056535720825195, 4.462193965911865, 4.344480991363525, 4.625492572784424, 4.27940034866333, 4.269822597503662, 4.079476833343506, 4.326613903045654, 4.473660945892334, 3.984851837158203, 4.4959845542907715, 4.840585231781006, 4.872323513031006, 4.231609344482422, 3.7480499744415283, 4.651912212371826, 4.967615127563477, 3.9193382263183594, 4.720488548278809, 4.256998538970947, 4.765116214752197, 4.435851573944092, 4.401477813720703, 3.7818045616149902, 3.6719138622283936, 4.320554256439209, 4.584262847900391, 4.620070457458496, 3.653592586517334, 4.709551811218262, 4.524126052856445, 4.2941789627075195, 5.386969089508057, 4.341512203216553, 4.572514057159424, 4.410778045654297, 4.034071922302246, 5.065647602081299, 4.12401819229126, 4.279780387878418, 4.1272101402282715, 4.105381488800049, 4.854289531707764, 3.946760654449463, 4.354011535644531, 4.356621742248535, 4.619732856750488, 4.146989345550537, 4.866003513336182, 4.075132846832275, 4.132206916809082, 4.568262100219727, 4.413790702819824, 4.173874855041504, 5.19216775894165, 3.9486243724823, 4.840651512145996, 4.068648815155029, 4.339161396026611, 4.185270309448242, 4.5927934646606445, 4.603772163391113, 4.816317081451416, 5.102839946746826, 4.6021528244018555, 4.309317588806152, 4.617785930633545, 4.946563720703125, 4.6801862716674805, 4.112857818603516, 4.755526542663574, 3.5627601146698, 5.161374568939209, 4.244988918304443, 4.436852931976318, 5.162102699279785, 5.0059332847595215, 4.353766441345215, 4.399438381195068, 4.202091693878174, 4.370368480682373, 4.24325704574585, 4.5215044021606445, 4.1959662437438965, 4.162477016448975, 3.980311155319214, 4.241973876953125, 4.380866050720215, 3.8988590240478516, 4.405270576477051, 4.758141994476318, 4.7684831619262695, 4.140880584716797, 3.65399169921875, 4.5818305015563965, 4.886857032775879, 3.8372600078582764, 4.62687349319458, 4.176135063171387, 4.678110599517822, 4.340149879455566, 4.3100361824035645, 3.7002182006835938, 3.605386257171631, 4.233585357666016, 4.503475189208984, 4.529994010925293, 3.5883865356445312, 4.637616157531738, 4.466005325317383, 4.227873802185059, 5.318356037139893, 4.252321243286133, 4.502800941467285, 4.335468769073486, 3.9553496837615967, 5.029267311096191]\n"
     ]
    }
   ],
   "source": [
    "learning_rate = 1e-3\n",
    "weight_decay = 1e-6\n",
    "\n",
    "loss_fn = nn.MSELoss(reduction=\"mean\") # can do MSE/MAE depends on outliers\n",
    "model = SimpleModel(input_dim=30)\n",
    "optimizer = optim.Adam(model.parameters(), lr=learning_rate, weight_decay=weight_decay)\n",
    "\n",
    "trainloss, valloss = train(model= model, train_loader= train_loader, n_epochs=5, optimizer= optimizer, criterion=loss_fn)\n",
    "print(trainloss)"
   ]
  },
  {
   "cell_type": "code",
   "execution_count": 467,
   "id": "38c9a548",
   "metadata": {},
   "outputs": [
    {
     "name": "stdout",
     "output_type": "stream",
     "text": [
      "[5.515138626098633, 5.637758255004883, 6.412588596343994, 6.529252052307129, 5.904070854187012, 5.636682033538818, 6.1403374671936035, 6.383017539978027, 6.46298885345459, 6.271946907043457, 7.160981178283691, 5.423994064331055, 6.158559799194336, 6.201850891113281, 5.689132213592529, 6.9668989181518555, 4.4840168952941895, 4.497381210327148, 5.1264448165893555, 5.189755439758301, 4.761782169342041, 4.470435619354248, 4.905251502990723, 5.119713306427002, 5.0539469718933105, 4.780852317810059, 5.824673652648926, 4.268362998962402, 4.8049397468566895, 4.857125282287598, 4.483277320861816, 5.706085205078125, 4.133896827697754, 4.11075496673584, 4.584953784942627, 4.701505184173584, 4.290927886962891, 4.0487446784973145, 4.4525041580200195, 4.656262397766113, 4.617762088775635, 4.245133399963379, 5.418168544769287, 3.9119701385498047, 4.28916072845459, 4.421201229095459, 4.063760280609131, 5.174839973449707, 4.002169132232666, 3.9914920330047607, 4.442269325256348, 4.57470703125, 4.1700592041015625, 3.917283535003662, 4.320265293121338, 4.5234503746032715, 4.48757266998291, 4.10110330581665, 5.284269332885742, 3.762108564376831, 4.160562515258789, 4.2796630859375, 3.938183307647705, 5.031346321105957, 3.943148374557495, 3.9308764934539795, 4.367034912109375, 4.510747909545898, 4.106877326965332, 3.8437981605529785, 4.257605075836182, 4.461792945861816, 4.425734519958496, 4.021970272064209, 5.212528228759766, 3.681875228881836, 4.1005473136901855, 4.21944522857666, 3.872955322265625, 4.948913097381592]\n"
     ]
    }
   ],
   "source": [
    "print(valloss)"
   ]
  },
  {
   "cell_type": "markdown",
   "id": "068baf21",
   "metadata": {},
   "source": [
    "## RNN TEST"
   ]
  },
  {
   "cell_type": "code",
   "execution_count": 242,
   "id": "6c956ca0",
   "metadata": {},
   "outputs": [],
   "source": [
    "# LSTmodel RNN\n",
    "# NOT FINISHED\n",
    "#####\n",
    "#https://towardsdatascience.com/building-rnn-lstm-and-gru-for-time-series-using-pytorch-a46e5b094e7b\n",
    "####\n",
    "class LSTMModel(nn.Module):\n",
    "    # input dim are the features which should be only 1 right t=0?\n",
    "    # or is it 5 because 5 particles?\n",
    "    def __init__(self, input_dim =5 , hidden_dim = 256, layer_dim = 2, output_dim = 2, dropout_prob = 0.2):\n",
    "        super(LSTMModel, self).__init__()\n",
    "\n",
    "        # Defining the number of layers and the nodes in each layer\n",
    "        self.hidden_dim = hidden_dim\n",
    "        self.layer_dim = layer_dim\n",
    "\n",
    "        # LSTM layers\n",
    "        self.lstm = nn.LSTM(\n",
    "            input_dim, hidden_dim, layer_dim, batch_first=True, dropout=dropout_prob\n",
    "        )\n",
    "\n",
    "        # Fully connected layer\n",
    "        self.fc = nn.Linear(hidden_dim, output_dim)\n",
    "\n",
    "    def forward(self, x):\n",
    "        # Initializing hidden state for first input with zeros\n",
    "        h0 = torch.zeros(self.layer_dim, x.size(0), self.hidden_dim).requires_grad_()\n",
    "\n",
    "        # Initializing cell state for first input with zeros\n",
    "        c0 = torch.zeros(self.layer_dim, x.size(0), self.hidden_dim).requires_grad_()\n",
    "\n",
    "        # We need to detach as we are doing truncated backpropagation through time (BPTT)\n",
    "        # If we don't, we'll backprop all the way to the start even after going through another batch\n",
    "        # Forward propagation by passing in the input, hidden state, and cell state into the model\n",
    "        out, (hn, cn) = self.lstm(x, (h0.detach(), c0.detach()))\n",
    "\n",
    "        # Reshaping the outputs in the shape of (batch_size, seq_length, hidden_size)\n",
    "        # so that it can fit into the fully connected layer\n",
    "        out = out[:, -1, :]\n",
    "\n",
    "        # Convert the final state to our desired output shape (batch_size, output_dim)\n",
    "        out = self.fc(out)\n",
    "\n",
    "        return out"
   ]
  },
  {
   "cell_type": "markdown",
   "id": "d5fb3b29",
   "metadata": {},
   "source": [
    "# Evaluation"
   ]
  },
  {
   "cell_type": "code",
   "execution_count": 290,
   "id": "2280031f",
   "metadata": {},
   "outputs": [],
   "source": [
    "# NN MODEL\n",
    "from tqdm import tqdm\n",
    "def train(model, train_loader, n_epochs, optimizer, criterion):\n",
    "    train_losses = []\n",
    "    val_losses = []\n",
    "    for epoch in range(1, n_epochs + 1):\n",
    "        running_loss = 0.0\n",
    "        model.train()\n",
    "\n",
    "        for veloc, charges, position, y in tqdm(train_loader):\n",
    "            pt_loss = 0.0\n",
    "            init_veloc_xy = veloc[:, 0, :, :]\n",
    "            init_pos_xy = position[:, 0, :, :] \n",
    "            charge = charges[:, :, 0]\n",
    "            print(init_pos_xy.shape)\n",
    "            print(charge.shape)\n",
    "            print(init_veloc_xy.shape)\n",
    "            break\n",
    "            x = torch.cat([init_pos_xy, charge, init_veloc_xy], dim=0) \n",
    "            y = y[:, -1, :, -1] # get [128, 2] batch x,y coordinate\n",
    "            y = torch.squeeze(y) # flattens dimensions of 1\n",
    "            optimizer.zero_grad()\n",
    "            outputs = model(x)\n",
    "            loss = criterion(outputs, y)\n",
    "            pt_loss += loss.item()\n",
    "            loss.backward()\n",
    "            optimizer.step()\n",
    "            pt_loss = pt_loss/10\n",
    "            running_loss += pt_loss\n",
    "                    \n",
    "        avg_train_loss = running_loss / (len(train_loader) * 128) # batch size\n",
    "        train_losses.append(avg_train_loss)\n",
    "\n",
    "    return train_losses"
   ]
  },
  {
   "cell_type": "code",
   "execution_count": 291,
   "id": "3a8240f1",
   "metadata": {},
   "outputs": [
    {
     "name": "stderr",
     "output_type": "stream",
     "text": [
      "  0%|          | 0/79 [00:00<?, ?it/s]\n"
     ]
    },
    {
     "name": "stdout",
     "output_type": "stream",
     "text": [
      "torch.Size([128, 2, 5])\n",
      "torch.Size([128, 5])\n",
      "torch.Size([128, 2, 5])\n"
     ]
    },
    {
     "name": "stderr",
     "output_type": "stream",
     "text": [
      "  0%|          | 0/79 [00:00<?, ?it/s]\n"
     ]
    },
    {
     "name": "stdout",
     "output_type": "stream",
     "text": [
      "torch.Size([128, 2, 5])\n",
      "torch.Size([128, 5])\n",
      "torch.Size([128, 2, 5])\n"
     ]
    },
    {
     "name": "stderr",
     "output_type": "stream",
     "text": [
      "  0%|          | 0/79 [00:00<?, ?it/s]\n"
     ]
    },
    {
     "name": "stdout",
     "output_type": "stream",
     "text": [
      "torch.Size([128, 2, 5])\n",
      "torch.Size([128, 5])\n",
      "torch.Size([128, 2, 5])\n"
     ]
    },
    {
     "name": "stderr",
     "output_type": "stream",
     "text": [
      "  0%|          | 0/79 [00:00<?, ?it/s]\n"
     ]
    },
    {
     "name": "stdout",
     "output_type": "stream",
     "text": [
      "torch.Size([128, 2, 5])\n",
      "torch.Size([128, 5])\n",
      "torch.Size([128, 2, 5])\n"
     ]
    },
    {
     "name": "stderr",
     "output_type": "stream",
     "text": [
      "  0%|          | 0/79 [00:00<?, ?it/s]\n"
     ]
    },
    {
     "name": "stdout",
     "output_type": "stream",
     "text": [
      "torch.Size([128, 2, 5])\n",
      "torch.Size([128, 5])\n",
      "torch.Size([128, 2, 5])\n"
     ]
    },
    {
     "name": "stderr",
     "output_type": "stream",
     "text": [
      "  0%|          | 0/79 [00:00<?, ?it/s]\n"
     ]
    },
    {
     "name": "stdout",
     "output_type": "stream",
     "text": [
      "torch.Size([128, 2, 5])\n",
      "torch.Size([128, 5])\n",
      "torch.Size([128, 2, 5])\n"
     ]
    },
    {
     "name": "stderr",
     "output_type": "stream",
     "text": [
      "  0%|          | 0/79 [00:00<?, ?it/s]\n"
     ]
    },
    {
     "name": "stdout",
     "output_type": "stream",
     "text": [
      "torch.Size([128, 2, 5])\n",
      "torch.Size([128, 5])\n",
      "torch.Size([128, 2, 5])\n"
     ]
    },
    {
     "name": "stderr",
     "output_type": "stream",
     "text": [
      "  0%|          | 0/79 [00:00<?, ?it/s]\n"
     ]
    },
    {
     "name": "stdout",
     "output_type": "stream",
     "text": [
      "torch.Size([128, 2, 5])\n",
      "torch.Size([128, 5])\n",
      "torch.Size([128, 2, 5])\n"
     ]
    },
    {
     "name": "stderr",
     "output_type": "stream",
     "text": [
      "  0%|          | 0/79 [00:00<?, ?it/s]\n"
     ]
    },
    {
     "name": "stdout",
     "output_type": "stream",
     "text": [
      "torch.Size([128, 2, 5])\n",
      "torch.Size([128, 5])\n",
      "torch.Size([128, 2, 5])\n"
     ]
    },
    {
     "name": "stderr",
     "output_type": "stream",
     "text": [
      "  0%|          | 0/79 [00:00<?, ?it/s]"
     ]
    },
    {
     "name": "stdout",
     "output_type": "stream",
     "text": [
      "torch.Size([128, 2, 5])\n",
      "torch.Size([128, 5])\n",
      "torch.Size([128, 2, 5])\n"
     ]
    },
    {
     "name": "stderr",
     "output_type": "stream",
     "text": [
      "\n"
     ]
    }
   ],
   "source": [
    "\n",
    "loss_fn = nn.MSELoss(reduction=\"mean\") # can do MSE/MAE depends on outliers\n",
    "RNN_network = LSTMModel()\n",
    "optimizer = optim.Adam(RNN_network.parameters(), lr=learning_rate, weight_decay=weight_decay)\n",
    "train_loss = train(model= RNN_network, train_loader=train_loader, n_epochs=10, optimizer= optimizer, criterion=loss_fn)\n"
   ]
  },
  {
   "cell_type": "code",
   "execution_count": null,
   "id": "7f9c4099",
   "metadata": {},
   "outputs": [],
   "source": []
  }
 ],
 "metadata": {
  "interpreter": {
   "hash": "4158c455f6fbd238463d225e32374cd628fb465de0e99af1b601eff60f49c402"
  },
  "kernelspec": {
   "display_name": "Python 3.7.1 ('base')",
   "language": "python",
   "name": "python3"
  },
  "language_info": {
   "codemirror_mode": {
    "name": "ipython",
    "version": 3
   },
   "file_extension": ".py",
   "mimetype": "text/x-python",
   "name": "python",
   "nbconvert_exporter": "python",
   "pygments_lexer": "ipython3",
   "version": "3.7.1"
  }
 },
 "nbformat": 4,
 "nbformat_minor": 5
}
