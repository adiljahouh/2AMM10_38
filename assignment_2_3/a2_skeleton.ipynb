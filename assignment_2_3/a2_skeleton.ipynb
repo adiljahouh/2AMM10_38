{
 "cells": [
  {
   "cell_type": "markdown",
   "id": "730fd591",
   "metadata": {},
   "source": [
    "<a href=\"https://colab.research.google.com/github/vlamen/tue-deeplearning/blob/main/assignments/assignment_2_3/a2_skeleton.ipynb\" target=\"_parent\"><img src=\"https://colab.research.google.com/assets/colab-badge.svg\" alt=\"Open In Colab\"/></a>"
   ]
  },
  {
   "cell_type": "markdown",
   "id": "d32f8d18",
   "metadata": {},
   "source": [
    "# Group Number: 38\n",
    "\n",
    "# Student 1:\n",
    "\n",
    "# Student 2:\n",
    "\n",
    "# Student 3:"
   ]
  },
  {
   "cell_type": "markdown",
   "id": "faec2056",
   "metadata": {},
   "source": [
    "# Downloading Data and Preliminaries"
   ]
  },
  {
   "cell_type": "code",
   "execution_count": 1,
   "id": "7d0580a5",
   "metadata": {},
   "outputs": [
    {
     "name": "stderr",
     "output_type": "stream",
     "text": [
      "c:\\Users\\Adil\\Anaconda3\\lib\\site-packages\\pandas\\compat\\_optional.py:138: UserWarning: Pandas requires version '2.7.0' or newer of 'numexpr' (version '2.6.8' currently installed).\n",
      "  warnings.warn(msg, UserWarning)\n"
     ]
    }
   ],
   "source": [
    "import pickle\n",
    "import matplotlib.pyplot as plt\n",
    "import matplotlib\n",
    "import numpy as np\n",
    "from zipfile import ZipFile\n",
    "import requests\n",
    "import io\n",
    "import torch\n",
    "import torch.nn as nn"
   ]
  },
  {
   "cell_type": "code",
   "execution_count": 2,
   "id": "b0756591",
   "metadata": {},
   "outputs": [],
   "source": [
    "def load_zip(url):\n",
    "    response = requests.get(url)\n",
    "    response.raise_for_status()\n",
    "    zipf = ZipFile(io.BytesIO(response.content))\n",
    "    return {name: zipf.read(name) for name in zipf.namelist()}\n",
    "\n",
    "def load_array(zipfile, fn):\n",
    "    return np.load(io.BytesIO(zipfile[fn]))"
   ]
  },
  {
   "cell_type": "code",
   "execution_count": 3,
   "id": "bb77a4be",
   "metadata": {},
   "outputs": [
    {
     "name": "stdout",
     "output_type": "stream",
     "text": [
      "Shapes of the training data:\n",
      "\n",
      "positions: (10000, 4, 2, 5)\n",
      "velocities: (10000, 1, 2, 5)\n",
      "charges: (10000, 5, 1)\n"
     ]
    }
   ],
   "source": [
    "\"\"\"\n",
    "This cell loads the training, validation or test data as numpy arrays,\n",
    "with the positions, initial velocities and charge data of the particles.\n",
    "\n",
    "The position arrays are shaped as\n",
    "[simulation id, time point (corresponding to t = 0, 0.5, 1 or 1.5), x/y spatial dimension, particle id].\n",
    "\n",
    "The initial velocity arrays are shaped as\n",
    "[simulation id, 1 (corresponding to t=0), x/y spatial dimension, particle id].\n",
    "\n",
    "The charge arrays are shaped as [simulation id, particle id, 1]\n",
    "\n",
    "\"\"\"\n",
    "\n",
    "data = load_zip('https://surfdrive.surf.nl/files/index.php/s/OIgda2ZRG8v0eqB/download')\n",
    "\n",
    "features = ['positions', 'velocities', 'charges']\n",
    "    \n",
    "positions_train, velocities_train, charges_train = (load_array(data, f'data/train/{f}.npy') for f in features)\n",
    "positions_valid, velocities_valid, charges_valid = (load_array(data, f'data/valid/{f}.npy') for f in features)\n",
    "positions_test, velocities_test, charges_test = (load_array(data, f'data/test/{f}.npy') for f in features)\n",
    "\n",
    "print('Shapes of the training data:\\n')\n",
    "print(f'positions: {positions_train.shape}')\n",
    "print(f'velocities: {velocities_train.shape}')\n",
    "print(f'charges: {charges_train.shape}')"
   ]
  },
  {
   "cell_type": "code",
   "execution_count": 4,
   "id": "1c3ea4cb",
   "metadata": {},
   "outputs": [
    {
     "name": "stdout",
     "output_type": "stream",
     "text": [
      "An example of retrieving data from the arrays:\n",
      "\n",
      "\n",
      "In simulation 42 of the training set, particle 3 with charge -1.0 had coordinates [ 2.05159559 -1.46130851].\n",
      "The initial velocity of this particle was [ 0.28402364 -0.24784824].\n"
     ]
    }
   ],
   "source": [
    "print('An example of retrieving data from the arrays:\\n\\n')\n",
    "\n",
    "sim_idx = 42\n",
    "t_idx = 2  # t_idx 0, 1, 2, 3 corresponds to t=0, 0.5, 1 and 1.5 respectively\n",
    "spatial_idx = (0,1)  # corresponds to both x and y dimension\n",
    "particle_idx = 3  # corresponds to particle with index 3\n",
    "\n",
    "p = positions_train[sim_idx, t_idx, spatial_idx, particle_idx]\n",
    "v = velocities_train[sim_idx, 0, spatial_idx, particle_idx]  # note: this array contains only the inital velocity -> hence the 0\n",
    "c = charges_train[sim_idx, particle_idx, 0] \n",
    "\n",
    "print(\n",
    "    f'In simulation {sim_idx} of the training set, particle {particle_idx} with charge {c} had coordinates {p}.\\nThe initial velocity of this particle was {v}.'\n",
    ")"
   ]
  },
  {
   "cell_type": "code",
   "execution_count": 5,
   "id": "0ec4c801",
   "metadata": {},
   "outputs": [
    {
     "name": "stdout",
     "output_type": "stream",
     "text": [
      "(2,)\n"
     ]
    }
   ],
   "source": [
    "print(p.shape)"
   ]
  },
  {
   "cell_type": "code",
   "execution_count": 6,
   "id": "10a3438a",
   "metadata": {},
   "outputs": [
    {
     "name": "stdout",
     "output_type": "stream",
     "text": [
      "Overview of no. datapoints:\n",
      "\n",
      "10000 train, 2000 validation, 2000 test simulations\n"
     ]
    }
   ],
   "source": [
    "print('Overview of no. datapoints:\\n')\n",
    "\n",
    "print(f'{len(positions_train)} train, {len(positions_valid)} validation, {len(positions_test)} test simulations')"
   ]
  },
  {
   "cell_type": "code",
   "execution_count": 7,
   "id": "f9106543",
   "metadata": {},
   "outputs": [],
   "source": [
    "def plot_example(pos, vel):\n",
    "\n",
    "    fig = plt.figure()\n",
    "    axes = plt.gca()\n",
    "    axes.set_xlim([-5., 5.])\n",
    "    axes.set_ylim([-5., 5.])\n",
    "    colors = ['red', 'blue', 'green', 'orange', 'brown']\n",
    "    for i in range(pos.shape[-1]):\n",
    "        plt.plot(pos[0, 0, i], pos[0, 1, i], 'd', color=colors[i])\n",
    "        plt.plot(pos[-1, 0, i], pos[-1, 1, i], 'x', color=colors[i])\n",
    "        plt.plot([pos[0, 0, i], pos[0, 0, i] + vel[0, 0, i]], [pos[0, 1, i], pos[0, 1, i] + vel[0, 1, i]], '--', color=colors[i])\n",
    "    fig.set_size_inches(7, 7)\n",
    "    plt.xlim(np.min(pos)-1, np.max(pos) +1)\n",
    "    plt.ylim(np.min(pos)-1, np.max(pos) +1)\n",
    "    plt.plot([], [], 'd', color='black', label='initial position')\n",
    "    plt.plot([], [], 'x', color='black', label='final position')\n",
    "    plt.plot([], [], '--', color='black', label='initial velocity \\ndirection and magnitude')\n",
    "    plt.legend()\n",
    "    \n",
    "    plt.show()\n",
    "    return"
   ]
  },
  {
   "cell_type": "code",
   "execution_count": 8,
   "id": "d28681a6",
   "metadata": {},
   "outputs": [
    {
     "data": {
      "image/png": "[encoded data removed]",
      "text/plain": [
       "<Figure size 504x504 with 1 Axes>"
      ]
     },
     "metadata": {
      "needs_background": "light"
     },
     "output_type": "display_data"
    }
   ],
   "source": [
    "random_idx = np.random.randint(0, 10000)\n",
    "plot_example(positions_train[random_idx], velocities_train[random_idx])"
   ]
  },
  {
   "cell_type": "markdown",
   "id": "059b633c",
   "metadata": {},
   "source": [
    "# Data Handling and Preprocessing"
   ]
  },
  {
   "cell_type": "code",
   "execution_count": 9,
   "id": "ddd17cea",
   "metadata": {},
   "outputs": [
    {
     "name": "stdout",
     "output_type": "stream",
     "text": [
      "120\n"
     ]
    }
   ],
   "source": [
    "import itertools\n",
    "\"\"\"\n",
    "Get all lists of indices to shuffle the train set\n",
    "\"\"\"\n",
    "def shuffle_indices(indices):\n",
    "\n",
    "    comb_list = []\n",
    "    for x in itertools.permutations(indices):\n",
    "        comb_list.append(list(x))\n",
    "    return comb_list\n",
    "\n",
    "list_indices = shuffle_indices(indices = [0, 1, 2, 3, 4])\n",
    "print(len(list_indices))"
   ]
  },
  {
   "cell_type": "code",
   "execution_count": 10,
   "id": "9c0ee28e",
   "metadata": {},
   "outputs": [],
   "source": [
    "\"\"\"\n",
    "Shuffle the train set such that we move\n",
    "each particle to a different location\n",
    "such that the model is permutation invariant\n",
    "\"\"\"\n",
    "# too difficult to implement \n",
    "\n",
    "for sim in range(positions_train.shape[0]):\n",
    "    for i in list_indices[:10]:\n",
    "        # print(positions_train[sim])\n",
    "        # print(\"\\n\")\n",
    "        # print(np.transpose(positions_train[sim, :, :, i]))\n",
    "        break\n",
    "    break   \n",
    "        "
   ]
  },
  {
   "cell_type": "code",
   "execution_count": 11,
   "id": "c67a6dbf",
   "metadata": {},
   "outputs": [
    {
     "name": "stderr",
     "output_type": "stream",
     "text": [
      "c:\\Users\\Adil\\Anaconda3\\lib\\site-packages\\torchvision\\io\\image.py:11: UserWarning: Failed to load image Python extension: [WinError 126] The specified module could not be found\n",
      "  warn(f\"Failed to load image Python extension: {e}\")\n"
     ]
    },
    {
     "name": "stdout",
     "output_type": "stream",
     "text": [
      "tensor([[[0.9131, 0.4084, 0.8885, 0.4627, 0.0364],\n",
      "         [0.8246, 0.6541, 0.2164, 0.7721, 0.2700]],\n",
      "\n",
      "        [[0.7896, 0.9985, 0.9266, 0.5035, 0.2625],\n",
      "         [0.2525, 0.2170, 0.3891, 0.9638, 0.0266]],\n",
      "\n",
      "        [[0.0135, 0.7128, 0.6526, 0.2426, 0.6800],\n",
      "         [0.0564, 0.0584, 0.6243, 0.0346, 0.0875]],\n",
      "\n",
      "        [[0.5360, 0.6206, 0.8931, 0.1342, 0.5416],\n",
      "         [0.7248, 0.3294, 0.3570, 0.1086, 0.9407]]])\n"
     ]
    },
    {
     "data": {
      "text/plain": [
       "tensor([[[0.0364, 0.4627, 0.8885, 0.4084, 0.9131],\n",
       "         [0.2700, 0.7721, 0.2164, 0.6541, 0.8246]],\n",
       "\n",
       "        [[0.2625, 0.5035, 0.9266, 0.9985, 0.7896],\n",
       "         [0.0266, 0.9638, 0.3891, 0.2170, 0.2525]],\n",
       "\n",
       "        [[0.6800, 0.2426, 0.6526, 0.7128, 0.0135],\n",
       "         [0.0875, 0.0346, 0.6243, 0.0584, 0.0564]],\n",
       "\n",
       "        [[0.5416, 0.1342, 0.8931, 0.6206, 0.5360],\n",
       "         [0.9407, 0.1086, 0.3570, 0.3294, 0.7248]]])"
      ]
     },
     "execution_count": 11,
     "metadata": {},
     "output_type": "execute_result"
    }
   ],
   "source": [
    "from torchvision import transforms\n",
    "\n",
    "transform = transforms.Compose(\n",
    "    [transforms.RandomHorizontalFlip(p=1)])\n",
    "tensor = torch.rand(4,2,5)\n",
    "print(tensor)\n",
    "transform(tensor)"
   ]
  },
  {
   "cell_type": "code",
   "execution_count": 12,
   "id": "e6ecb529",
   "metadata": {},
   "outputs": [],
   "source": [
    "from torch.utils.data import Dataset, DataLoader,TensorDataset\n",
    "from torch.nn.functional import normalize\n",
    "class MyDataset(Dataset):\n",
    "    def __init__(self, veloc, pos, charges,time_id, norm, transform=None):\n",
    "        self.velocity = torch.FloatTensor(veloc)\n",
    "        self.charges = torch.FloatTensor(charges)\n",
    "        self.position = torch.FloatTensor(pos)\n",
    "        self.time_id = time_id\n",
    "        self.norm = norm\n",
    "        self.transform = transform\n",
    "\n",
    "    def __getitem__(self, index):\n",
    "        x_1 = self.velocity[index] #t=0 by default\n",
    "        x_2 = self.charges[index] #t=0 by default\n",
    "        x_2 = x_2.reshape(-1, 1, 5) # reshape from 128, 5, 1 -> 128, 1, 5\n",
    "        x_2 = x_2.repeat(1, 2, 1) # 128, 2, 5\n",
    "        x_3 = self.position[index, 0].view(1,2,5) # input pos of t=0\n",
    "        reshaped_array = torch.cat([x_1, x_2, x_3], dim=1)\n",
    "        y = self.position[index, self.time_id].view(1,2,5) # output pos of t=time_id\n",
    "\n",
    "        if self.norm is not False:\n",
    "            reshaped_array = normalize(reshaped_array)\n",
    "            y = normalize(y)\n",
    "        \n",
    "        if self.transform is not None:\n",
    "            reshaped_array = self.transform(reshaped_array)\n",
    "            y = self.transform(y)\n",
    "\n",
    "        return reshaped_array, y\n",
    "\n",
    "    def __len__(self):\n",
    "        return len(self.charges)"
   ]
  },
  {
   "cell_type": "code",
   "execution_count": 13,
   "id": "f8633eb8",
   "metadata": {},
   "outputs": [],
   "source": [
    "from torchvision import transforms\n",
    "\n",
    "transform = transforms.Compose(\n",
    "    [transforms.RandomHorizontalFlip(p=0.5)]) # changes it from ptxid = [0, 1, 2, 3, 4] to [4, 3, 2, 1, 0]\n",
    "\n",
    "train_dataset=MyDataset(velocities_train, positions_train, charges_train, time_id = 1, norm = True, transform=None) # Normalization not the same for\n",
    "val_dataset = MyDataset(velocities_valid, positions_valid, charges_valid, time_id = 1, norm = True, transform=None) \n",
    "test_dataset = MyDataset(velocities_test, positions_test, charges_test, time_id = 1, norm = True, transform=None) \n",
    "\n",
    "train_loader = torch.utils.data.DataLoader(train_dataset, batch_size=128)\n",
    "val_loader = torch.utils.data.DataLoader(val_dataset, batch_size=128)\n",
    "test_loader = torch.utils.data.DataLoader(test_dataset, batch_size=128)"
   ]
  },
  {
   "cell_type": "code",
   "execution_count": 15,
   "id": "ccd42ee9",
   "metadata": {},
   "outputs": [
    {
     "name": "stdout",
     "output_type": "stream",
     "text": [
      "veloc {sim, init_vel, x or y, ptxid} -  charge {sim, ptxid, charge} - pos {sim, time, x or y, ptxd}\n",
      "torch.Size([128, 1, 6, 5]) torch.Size([128, 1, 2, 5])\n"
     ]
    }
   ],
   "source": [
    "for x, y in test_loader:\n",
    "    print(\"veloc {sim, init_vel, x or y, ptxid} -  charge {sim, ptxid, charge} - pos {sim, time, x or y, ptxd}\")\n",
    "    print(x.shape, y.shape)\n",
    "    # y = y.view(y.shape[0], 10)\n",
    "    # print(y.shape)\n",
    "    # print(len(test_loader))\n",
    "    break\n",
    "\n",
    "# normal nn  fix losses done\n",
    "# fix dataloader done\n",
    "# data augmentation (flip the order of ptxid)\n",
    "# normalizing the data"
   ]
  },
  {
   "cell_type": "markdown",
   "id": "18b2874d",
   "metadata": {},
   "source": [
    "# Model Implementation"
   ]
  },
  {
   "cell_type": "code",
   "execution_count": 52,
   "id": "dde5ed84",
   "metadata": {},
   "outputs": [],
   "source": [
    "# Simple NN network for value prediction\n",
    "import numpy as np\n",
    "import torch\n",
    "from torch import nn\n",
    "import torch.nn.functional as F\n",
    "import torch.optim as optim\n",
    "class SimpleModel(nn.Module):\n",
    "    def __init__(self, input_dim):\n",
    "        super(SimpleModel, self).__init__()\n",
    "        self.layer1 = nn.Linear(input_dim, 32)\n",
    "        self.layer2 = nn.Linear(32, 64)\n",
    "        self.layer3 = nn.Linear(64, 10)\n",
    "        # self.layer4 = nn.Linear(64, 32)\n",
    "        # self.layer5 = nn.Linear(32, 10)\n",
    "        self.norm1 = nn.BatchNorm1d(32)\n",
    "        self.norm2 = nn.BatchNorm1d(64)\n",
    "        self.norm3 = nn.BatchNorm1d(10)\n",
    "        self.drop = nn.Dropout(0.2)\n",
    "        \n",
    "        \n",
    "    def forward(self, x):\n",
    "        x = self.norm1(F.relu(self.layer1(x)))\n",
    "        x = self.drop(x)\n",
    "        x = self.norm2(F.relu(self.layer2(x)))\n",
    "        x = self.drop(x)\n",
    "        x = self.norm3(F.relu(self.layer3(x)))\n",
    "        # x = F.relu(self.layer4(x))\n",
    "        # x = F.relu(self.layer5(x))\n",
    "        # x = self.drop(x)\n",
    "        return x"
   ]
  },
  {
   "cell_type": "code",
   "execution_count": 53,
   "id": "6c956ca0",
   "metadata": {},
   "outputs": [],
   "source": [
    "# LSTmodel RNN\n",
    "#####\n",
    "#https://towardsdatascience.com/building-rnn-lstm-and-gru-for-time-series-using-pytorch-a46e5b094e7b\n",
    "####\n",
    "class LSTMModel(nn.Module):\n",
    "    # input dim are the features which should be only 1 right t=0?\n",
    "    # or is it 5 because 5 particles?\n",
    "    def __init__(self, input_dim = 30 , hidden_dim = 256, layer_dim = 2, output_dim = 10, dropout_prob = 0.2):\n",
    "        super(LSTMModel, self).__init__()\n",
    "\n",
    "        # Defining the number of layers and the nodes in each layer\n",
    "        self.hidden_dim = hidden_dim\n",
    "        self.layer_dim = layer_dim\n",
    "\n",
    "        # LSTM layers\n",
    "        self.lstm = nn.LSTM(\n",
    "            input_dim, hidden_dim, layer_dim, batch_first=True, dropout=dropout_prob\n",
    "        )\n",
    "\n",
    "        # Fully connected layer\n",
    "        self.fc = nn.Linear(hidden_dim, output_dim)\n",
    "\n",
    "    def forward(self, x):\n",
    "        # Initializing hidden state for first input with zeros\n",
    "        h0 = torch.zeros(self.layer_dim, x.size(0), self.hidden_dim).requires_grad_()\n",
    "\n",
    "        # Initializing cell state for first input with zeros\n",
    "        c0 = torch.zeros(self.layer_dim, x.size(0), self.hidden_dim).requires_grad_()\n",
    "\n",
    "        # We need to detach as we are doing truncated backpropagation through time (BPTT)\n",
    "        # If we don't, we'll backprop all the way to the start even after going through another batch\n",
    "        # Forward propagation by passing in the input, hidden state, and cell state into the model\n",
    "        out, (hn, cn) = self.lstm(x, (h0.detach(), c0.detach()))\n",
    "\n",
    "        # Reshaping the outputs in the shape of (batch_size, seq_length, hidden_size)\n",
    "        # so that it can fit into the fully connected layer\n",
    "        out = out[:, -1, :]\n",
    "\n",
    "        # Convert the final state to our desired output shape (batch_size, output_dim)\n",
    "        out = self.fc(out)\n",
    "\n",
    "        return out"
   ]
  },
  {
   "cell_type": "markdown",
   "id": "dea70d73",
   "metadata": {},
   "source": [
    "# Model Training REGULAR NEURAL NET"
   ]
  },
  {
   "cell_type": "code",
   "execution_count": 54,
   "id": "3af520ae",
   "metadata": {},
   "outputs": [],
   "source": [
    "# NN MODEL\n",
    "from tqdm import tqdm\n",
    "def train(model, train_loader, n_epochs, optimizer, criterion):\n",
    "    train_losses = []\n",
    "    val_losses = []\n",
    "    for _ in range(1, n_epochs + 1):\n",
    "        output_val = [] #get output of last epoch in val\n",
    "        model.train()\n",
    "\n",
    "        for x, y in tqdm(train_loader):\n",
    "            y = y.view(y.shape[0], 10)\n",
    "            x = x.view(x.shape[0], 30)\n",
    "            batch_loss = 0.0\n",
    "            optimizer.zero_grad()\n",
    "            outputs = model(x)\n",
    "            loss = criterion(outputs, y)\n",
    "            batch_loss += loss.item()\n",
    "            loss.backward()\n",
    "            optimizer.step()\n",
    "            \n",
    "        avg_train_loss = batch_loss / len(train_loader) # batch size\n",
    "        train_losses.append(avg_train_loss)\n",
    "\n",
    "        with torch.no_grad():\n",
    "            model.eval()\n",
    "            for x, y in val_loader:\n",
    "                y = y.view(y.shape[0], 10)\n",
    "                x = x.view(x.shape[0], 30)\n",
    "                val_batch_loss = 0.0\n",
    "                outputs = model(x)\n",
    "                output_val.append(outputs)\n",
    "                loss = criterion(outputs, y)\n",
    "                val_batch_loss += loss.item()\n",
    "\n",
    "        avg_val_loss = val_batch_loss / len(val_loader) # batch size\n",
    "        val_losses.append(avg_val_loss)\n",
    "\n",
    "    return train_losses, val_losses, output_val"
   ]
  },
  {
   "cell_type": "code",
   "execution_count": 61,
   "id": "e95af5f9",
   "metadata": {},
   "outputs": [
    {
     "name": "stderr",
     "output_type": "stream",
     "text": [
      "\n",
      "  0%|          | 0/79 [00:00<?, ?it/s]\n",
      "  6%|▋         | 5/79 [00:00<00:02, 34.01it/s]\n",
      " 13%|█▎        | 10/79 [00:00<00:01, 37.15it/s]\n",
      " 20%|██        | 16/79 [00:00<00:01, 40.91it/s]\n",
      " 28%|██▊       | 22/79 [00:00<00:01, 44.22it/s]\n",
      " 35%|███▌      | 28/79 [00:00<00:01, 46.66it/s]\n",
      " 43%|████▎     | 34/79 [00:00<00:00, 48.77it/s]\n",
      " 51%|█████     | 40/79 [00:00<00:00, 50.75it/s]\n",
      " 57%|█████▋    | 45/79 [00:00<00:00, 49.77it/s]\n",
      " 65%|██████▍   | 51/79 [00:01<00:00, 50.46it/s]\n",
      " 72%|███████▏  | 57/79 [00:01<00:00, 51.89it/s]\n",
      " 80%|███████▉  | 63/79 [00:01<00:00, 52.65it/s]\n",
      " 87%|████████▋ | 69/79 [00:01<00:00, 48.67it/s]\n",
      " 94%|█████████▎| 74/79 [00:01<00:00, 43.68it/s]\n",
      "100%|██████████| 79/79 [00:01<00:00, 48.65it/s]\n",
      "  0%|          | 0/79 [00:00<?, ?it/s]\n",
      "  5%|▌         | 4/79 [00:00<00:01, 39.21it/s]\n",
      " 13%|█▎        | 10/79 [00:00<00:01, 42.36it/s]\n",
      " 19%|█▉        | 15/79 [00:00<00:01, 41.62it/s]\n",
      " 24%|██▍       | 19/79 [00:00<00:01, 39.30it/s]\n",
      " 32%|███▏      | 25/79 [00:00<00:01, 42.53it/s]\n",
      " 38%|███▊      | 30/79 [00:00<00:01, 43.36it/s]\n",
      " 44%|████▍     | 35/79 [00:00<00:00, 45.16it/s]\n",
      " 52%|█████▏    | 41/79 [00:00<00:00, 48.19it/s]\n",
      " 59%|█████▉    | 47/79 [00:00<00:00, 50.50it/s]\n",
      " 67%|██████▋   | 53/79 [00:01<00:00, 52.87it/s]\n",
      " 75%|███████▍  | 59/79 [00:01<00:00, 53.79it/s]\n",
      " 82%|████████▏ | 65/79 [00:01<00:00, 55.04it/s]\n",
      " 91%|█████████ | 72/79 [00:01<00:00, 56.94it/s]\n",
      " 99%|█████████▊| 78/79 [00:01<00:00, 56.86it/s]\n",
      "100%|██████████| 79/79 [00:01<00:00, 51.68it/s]\n",
      "  0%|          | 0/79 [00:00<?, ?it/s]\n",
      "  8%|▊         | 6/79 [00:00<00:01, 55.06it/s]\n",
      " 15%|█▌        | 12/79 [00:00<00:01, 55.36it/s]\n",
      " 23%|██▎       | 18/79 [00:00<00:01, 56.19it/s]\n",
      " 32%|███▏      | 25/79 [00:00<00:00, 57.51it/s]\n",
      " 39%|███▉      | 31/79 [00:00<00:00, 57.46it/s]\n",
      " 47%|████▋     | 37/79 [00:00<00:00, 55.76it/s]\n",
      " 54%|█████▍    | 43/79 [00:00<00:00, 55.70it/s]\n",
      " 62%|██████▏   | 49/79 [00:00<00:00, 56.76it/s]\n",
      " 70%|██████▉   | 55/79 [00:00<00:00, 57.03it/s]\n",
      " 77%|███████▋  | 61/79 [00:01<00:00, 56.58it/s]\n",
      " 85%|████████▍ | 67/79 [00:01<00:00, 56.58it/s]\n",
      " 94%|█████████▎| 74/79 [00:01<00:00, 58.52it/s]\n",
      "100%|██████████| 79/79 [00:01<00:00, 57.75it/s]\n",
      "  0%|          | 0/79 [00:00<?, ?it/s]\n",
      "  8%|▊         | 6/79 [00:00<00:01, 56.59it/s]\n",
      " 16%|█▋        | 13/79 [00:00<00:01, 57.52it/s]\n",
      " 23%|██▎       | 18/79 [00:00<00:01, 53.84it/s]\n",
      " 29%|██▉       | 23/79 [00:00<00:01, 49.48it/s]\n",
      " 37%|███▋      | 29/79 [00:00<00:00, 50.53it/s]\n",
      " 44%|████▍     | 35/79 [00:00<00:00, 52.33it/s]\n",
      " 52%|█████▏    | 41/79 [00:00<00:00, 53.82it/s]\n",
      " 59%|█████▉    | 47/79 [00:00<00:00, 53.39it/s]\n",
      " 67%|██████▋   | 53/79 [00:01<00:00, 52.18it/s]\n",
      " 75%|███████▍  | 59/79 [00:01<00:00, 52.04it/s]\n",
      " 82%|████████▏ | 65/79 [00:01<00:00, 50.88it/s]\n",
      " 90%|████████▉ | 71/79 [00:01<00:00, 51.13it/s]\n",
      " 97%|█████████▋| 77/79 [00:01<00:00, 52.11it/s]\n",
      "100%|██████████| 79/79 [00:01<00:00, 52.75it/s]\n",
      "  0%|          | 0/79 [00:00<?, ?it/s]\n",
      "  8%|▊         | 6/79 [00:00<00:01, 51.27it/s]\n",
      " 15%|█▌        | 12/79 [00:00<00:01, 51.01it/s]\n",
      " 23%|██▎       | 18/79 [00:00<00:01, 51.75it/s]\n",
      " 29%|██▉       | 23/79 [00:00<00:01, 51.05it/s]\n",
      " 37%|███▋      | 29/79 [00:00<00:00, 51.51it/s]\n",
      " 44%|████▍     | 35/79 [00:00<00:00, 52.52it/s]\n",
      " 52%|█████▏    | 41/79 [00:00<00:00, 52.97it/s]\n",
      " 59%|█████▉    | 47/79 [00:00<00:00, 53.57it/s]\n",
      " 67%|██████▋   | 53/79 [00:01<00:00, 52.17it/s]\n",
      " 75%|███████▍  | 59/79 [00:01<00:00, 51.90it/s]\n",
      " 82%|████████▏ | 65/79 [00:01<00:00, 51.44it/s]\n",
      " 90%|████████▉ | 71/79 [00:01<00:00, 53.31it/s]\n",
      " 99%|█████████▊| 78/79 [00:01<00:00, 55.77it/s]\n",
      "100%|██████████| 79/79 [00:01<00:00, 53.62it/s]\n",
      "  0%|          | 0/79 [00:00<?, ?it/s]\n",
      "  8%|▊         | 6/79 [00:00<00:01, 59.39it/s]\n",
      " 15%|█▌        | 12/79 [00:00<00:01, 58.87it/s]\n",
      " 23%|██▎       | 18/79 [00:00<00:01, 59.02it/s]\n",
      " 30%|███       | 24/79 [00:00<00:00, 59.13it/s]\n",
      " 38%|███▊      | 30/79 [00:00<00:00, 59.21it/s]\n",
      " 46%|████▌     | 36/79 [00:00<00:00, 58.92it/s]\n",
      " 53%|█████▎    | 42/79 [00:00<00:00, 58.37it/s]\n",
      " 61%|██████    | 48/79 [00:00<00:00, 57.99it/s]\n",
      " 68%|██████▊   | 54/79 [00:00<00:00, 58.23it/s]\n",
      " 76%|███████▌  | 60/79 [00:01<00:00, 58.24it/s]\n",
      " 85%|████████▍ | 67/79 [00:01<00:00, 59.60it/s]\n",
      " 94%|█████████▎| 74/79 [00:01<00:00, 60.60it/s]\n",
      "100%|██████████| 79/79 [00:01<00:00, 60.02it/s]\n",
      "  0%|          | 0/79 [00:00<?, ?it/s]\n",
      "  8%|▊         | 6/79 [00:00<00:01, 57.68it/s]\n",
      " 15%|█▌        | 12/79 [00:00<00:01, 57.18it/s]\n",
      " 23%|██▎       | 18/79 [00:00<00:01, 56.05it/s]\n",
      " 30%|███       | 24/79 [00:00<00:00, 56.37it/s]\n",
      " 39%|███▉      | 31/79 [00:00<00:00, 57.93it/s]\n",
      " 47%|████▋     | 37/79 [00:00<00:00, 56.87it/s]\n",
      " 54%|█████▍    | 43/79 [00:00<00:00, 56.60it/s]\n",
      " 63%|██████▎   | 50/79 [00:00<00:00, 57.89it/s]\n",
      " 71%|███████   | 56/79 [00:00<00:00, 58.33it/s]\n",
      " 78%|███████▊  | 62/79 [00:01<00:00, 58.31it/s]\n",
      " 86%|████████▌ | 68/79 [00:01<00:00, 57.78it/s]\n",
      " 94%|█████████▎| 74/79 [00:01<00:00, 58.25it/s]\n",
      "100%|██████████| 79/79 [00:01<00:00, 58.35it/s]\n",
      "  0%|          | 0/79 [00:00<?, ?it/s]\n",
      "  9%|▉         | 7/79 [00:00<00:01, 63.62it/s]\n",
      " 18%|█▊        | 14/79 [00:00<00:01, 63.45it/s]\n",
      " 25%|██▌       | 20/79 [00:00<00:00, 60.48it/s]\n",
      " 33%|███▎      | 26/79 [00:00<00:00, 56.90it/s]\n",
      " 41%|████      | 32/79 [00:00<00:00, 56.97it/s]\n",
      " 48%|████▊     | 38/79 [00:00<00:00, 57.84it/s]\n",
      " 57%|█████▋    | 45/79 [00:00<00:00, 58.57it/s]\n",
      " 65%|██████▍   | 51/79 [00:00<00:00, 58.81it/s]\n",
      " 72%|███████▏  | 57/79 [00:00<00:00, 58.50it/s]\n",
      " 80%|███████▉  | 63/79 [00:01<00:00, 58.94it/s]\n",
      " 87%|████████▋ | 69/79 [00:01<00:00, 59.25it/s]\n",
      " 96%|█████████▌| 76/79 [00:01<00:00, 60.50it/s]\n",
      "100%|██████████| 79/79 [00:01<00:00, 59.62it/s]\n",
      "  0%|          | 0/79 [00:00<?, ?it/s]\n",
      "  9%|▉         | 7/79 [00:00<00:01, 60.86it/s]\n",
      " 18%|█▊        | 14/79 [00:00<00:01, 61.17it/s]\n",
      " 25%|██▌       | 20/79 [00:00<00:00, 59.90it/s]\n",
      " 33%|███▎      | 26/79 [00:00<00:00, 57.17it/s]\n",
      " 41%|████      | 32/79 [00:00<00:00, 56.30it/s]\n",
      " 48%|████▊     | 38/79 [00:00<00:00, 57.19it/s]\n",
      " 56%|█████▌    | 44/79 [00:00<00:00, 57.50it/s]\n",
      " 63%|██████▎   | 50/79 [00:00<00:00, 57.56it/s]\n",
      " 71%|███████   | 56/79 [00:00<00:00, 55.98it/s]\n",
      " 78%|███████▊  | 62/79 [00:01<00:00, 55.08it/s]\n",
      " 86%|████████▌ | 68/79 [00:01<00:00, 55.83it/s]\n",
      " 95%|█████████▍| 75/79 [00:01<00:00, 56.97it/s]\n",
      "100%|██████████| 79/79 [00:01<00:00, 57.22it/s]\n",
      "  0%|          | 0/79 [00:00<?, ?it/s]\n",
      "  8%|▊         | 6/79 [00:00<00:01, 59.39it/s]\n",
      " 15%|█▌        | 12/79 [00:00<00:01, 58.87it/s]\n",
      " 23%|██▎       | 18/79 [00:00<00:01, 58.00it/s]\n",
      " 30%|███       | 24/79 [00:00<00:00, 57.08it/s]\n",
      " 38%|███▊      | 30/79 [00:00<00:00, 57.58it/s]\n",
      " 46%|████▌     | 36/79 [00:00<00:00, 58.12it/s]\n",
      " 53%|█████▎    | 42/79 [00:00<00:00, 57.82it/s]\n",
      " 61%|██████    | 48/79 [00:00<00:00, 58.28it/s]\n",
      " 70%|██████▉   | 55/79 [00:00<00:00, 59.03it/s]\n",
      " 78%|███████▊  | 62/79 [00:01<00:00, 60.18it/s]\n",
      " 86%|████████▌ | 68/79 [00:01<00:00, 58.54it/s]\n",
      " 94%|█████████▎| 74/79 [00:01<00:00, 56.31it/s]\n",
      "100%|██████████| 79/79 [00:01<00:00, 58.16it/s]"
     ]
    }
   ],
   "source": [
    "learning_rate = 1e-3\n",
    "weight_decay = 1e-6\n",
    "\n",
    "loss_fn = nn.MSELoss(reduction=\"mean\") # can do MSE/MAE depends on outliers\n",
    "model = SimpleModel(input_dim=30)\n",
    "#print(model.layer1.weight) # checking if weights are getting updated\n",
    "optimizer = optim.Adam(model.parameters(), lr=learning_rate, weight_decay=weight_decay)\n",
    "\n",
    "trainloss, valloss, output_val = train(model= model, train_loader= train_loader, n_epochs=10, optimizer= optimizer, criterion=loss_fn)\n",
    "#print(model.layer1.weight) # checking if weights are getting updated"
   ]
  },
  {
   "cell_type": "code",
   "execution_count": 62,
   "id": "85143fd5",
   "metadata": {},
   "outputs": [
    {
     "data": {
      "image/png": "[encoded data removed]",
      "text/plain": [
       "<Figure size 432x288 with 1 Axes>"
      ]
     },
     "metadata": {
      "needs_background": "light"
     },
     "output_type": "display_data"
    }
   ],
   "source": [
    "plt.xlabel('epoch')\n",
    "plt.ylabel('loss')\n",
    "plt.plot(trainloss, label='Train Loss')\n",
    "plt.plot(valloss, label=\"Validation Loss\")\n",
    "plt.legend(bbox_to_anchor=(1.05, 1.0), loc='upper left')\n",
    "plt.show()\n",
    "#  3 layers dropout at end"
   ]
  },
  {
   "cell_type": "markdown",
   "id": "068baf21",
   "metadata": {},
   "source": [
    "## RNN TEST"
   ]
  },
  {
   "cell_type": "code",
   "execution_count": 57,
   "id": "c0a33d16",
   "metadata": {},
   "outputs": [],
   "source": [
    "# RNN MODEL\n",
    "from tqdm import tqdm\n",
    "def trainRNN(model, train_loader, n_epochs, optimizer, criterion):\n",
    "    train_losses = []\n",
    "    val_losses = []\n",
    "    for _ in range(1, n_epochs + 1):\n",
    "        output_val = [] #get output of last epoch in val\n",
    "        model.train()\n",
    "\n",
    "        for x, y in tqdm(train_loader):\n",
    "            y = y.view(y.shape[0], 10)\n",
    "            x = x.view(x.shape[0], 1, 30)\n",
    "            batch_loss = 0.0\n",
    "            optimizer.zero_grad()\n",
    "            outputs = model(x)\n",
    "            outputs = outputs.squeeze()\n",
    "            loss = criterion(outputs, y)\n",
    "            batch_loss += loss.item()\n",
    "            loss.backward()\n",
    "            optimizer.step()\n",
    "            \n",
    "        avg_train_loss = batch_loss / len(train_loader) # batch size\n",
    "        train_losses.append(avg_train_loss)\n",
    "\n",
    "        with torch.no_grad():\n",
    "            model.eval()\n",
    "            for x, y in val_loader:\n",
    "                y = y.view(y.shape[0], 10)\n",
    "                x = x.view(x.shape[0], 1, 30)  \n",
    "                val_batch_loss = 0.0\n",
    "                outputs = model(x)\n",
    "                output_val.append(outputs)\n",
    "                loss = criterion(outputs, y)\n",
    "                val_batch_loss += loss.item()\n",
    "\n",
    "        avg_val_loss = val_batch_loss / len(val_loader) # batch size\n",
    "        val_losses.append(avg_val_loss)\n",
    "\n",
    "    return train_losses, val_losses, output_val"
   ]
  },
  {
   "cell_type": "code",
   "execution_count": 69,
   "id": "3a8240f1",
   "metadata": {},
   "outputs": [
    {
     "name": "stderr",
     "output_type": "stream",
     "text": [
      "100%|██████████| 79/79 [00:02<00:00, 27.88it/s]\n",
      "100%|██████████| 79/79 [00:02<00:00, 27.34it/s]\n",
      "100%|██████████| 79/79 [00:02<00:00, 27.70it/s]\n",
      "100%|██████████| 79/79 [00:02<00:00, 27.76it/s]\n",
      "100%|██████████| 79/79 [00:02<00:00, 28.03it/s]\n",
      "100%|██████████| 79/79 [00:02<00:00, 27.34it/s]\n",
      "100%|██████████| 79/79 [00:02<00:00, 27.60it/s]\n",
      "100%|██████████| 79/79 [00:02<00:00, 27.76it/s]\n",
      "100%|██████████| 79/79 [00:02<00:00, 27.83it/s]\n",
      "100%|██████████| 79/79 [00:02<00:00, 28.23it/s]\n"
     ]
    }
   ],
   "source": [
    "\n",
    "loss_fn = nn.MSELoss(reduction=\"mean\") # can do MSE/MAE depends on outliers\n",
    "RNN_network = LSTMModel()\n",
    "optimizer = optim.Adam(RNN_network.parameters(), lr=learning_rate, weight_decay=weight_decay)\n",
    "trainloss, valloss, output_val = trainRNN(model= RNN_network, train_loader=train_loader, n_epochs=10, optimizer= optimizer, criterion=loss_fn)\n"
   ]
  },
  {
   "cell_type": "code",
   "execution_count": 70,
   "id": "7f9c4099",
   "metadata": {},
   "outputs": [
    {
     "data": {
      "image/png": "[encoded data removed]",
      "text/plain": [
       "<Figure size 432x288 with 1 Axes>"
      ]
     },
     "metadata": {
      "needs_background": "light"
     },
     "output_type": "display_data"
    }
   ],
   "source": [
    "plt.xlabel('epoch')\n",
    "plt.ylabel('loss')\n",
    "plt.plot(trainloss, label='Train Loss')\n",
    "plt.plot(valloss, label=\"Validation Loss\")\n",
    "plt.legend(bbox_to_anchor=(1.05, 1.0), loc='upper left')\n",
    "plt.show()"
   ]
  },
  {
   "cell_type": "markdown",
   "id": "8dfc07c9",
   "metadata": {},
   "source": [
    "## Baseline predictions"
   ]
  },
  {
   "cell_type": "code",
   "execution_count": 71,
   "id": "d1b60737",
   "metadata": {},
   "outputs": [],
   "source": [
    "# GET FORMULA PREDICTIONS\n",
    "def baseline_prediction():\n",
    "    baseline_pred_x = []\n",
    "    baseline_pred_y = []\n",
    "    for sim in range(2000): # should be 2000\n",
    "        for ptxd in range(5):\n",
    "            #x_t = x_0 + v_0 * t for (x, y)\n",
    "            x_pos, y_pos = (positions_test[sim, 0, 0, ptxd]) + (velocities_test[sim, 0, 0, ptxd]*0.5), positions_test[sim, 0, 1, ptxd] + (velocities_test[sim, 0, 1, ptxd]*0.5)\n",
    "            baseline_pred_x.append(x_pos)\n",
    "            baseline_pred_y.append(y_pos)\n",
    "    return baseline_pred_x, baseline_pred_y\n",
    "# charges_test\n",
    "baseline_pred_x, baseline_pred_y = baseline_prediction()"
   ]
  },
  {
   "cell_type": "markdown",
   "id": "f7033d3e",
   "metadata": {},
   "source": [
    "## Prediction + label"
   ]
  },
  {
   "cell_type": "code",
   "execution_count": 72,
   "id": "12205fc3",
   "metadata": {},
   "outputs": [],
   "source": [
    "# GET OUR PREDICTIONS AND LABELS\n",
    "from tqdm import tqdm\n",
    "def test(model, test_loader):\n",
    "    output_test = [] #get output of last epoch in val\n",
    "    labels = []\n",
    "    with torch.no_grad():\n",
    "        model.eval()\n",
    "        for x, y in test_loader:\n",
    "            y = y.view(y.shape[0], 10)\n",
    "            x = x.view(x.shape[0], 30)\n",
    "            outputs = model(x)\n",
    "            output_test.append(outputs)\n",
    "            labels.append(y)\n",
    "    return output_test, labels"
   ]
  },
  {
   "cell_type": "code",
   "execution_count": 73,
   "id": "d2a03769",
   "metadata": {},
   "outputs": [],
   "source": [
    "test_output, labels = test(model, test_loader)\n",
    "# append predictions and labels to list\n",
    "def split_output(test_output, labels):\n",
    "    test_x = []\n",
    "    test_y = []\n",
    "    act_x = []\n",
    "    act_y = []\n",
    "    for batch in test_output:\n",
    "        arr = batch.numpy()\n",
    "        for sim in range(arr.shape[0]):\n",
    "            y = arr[sim][1::2] # take every even index\n",
    "            x = arr[sim][::2] # take every even index\n",
    "        \n",
    "            test_x.extend(x)\n",
    "            test_y.extend(y)\n",
    "    \n",
    "    for lab_batch in labels:\n",
    "        arr_lab = lab_batch.numpy()\n",
    "        for sim in range(arr_lab.shape[0]):\n",
    "            y_lab = arr_lab[sim][1::2] # take every even index\n",
    "            x_lab = arr_lab[sim][::2] # take every even index\n",
    "        \n",
    "            act_x.extend(x_lab)\n",
    "            act_y.extend(y_lab)\n",
    "    \n",
    "    return test_x, test_y, act_x, act_y\n",
    "\n",
    "x_pred, y_pred, x_act, y_act = split_output(test_output, labels)"
   ]
  },
  {
   "cell_type": "code",
   "execution_count": 84,
   "id": "06f11070",
   "metadata": {},
   "outputs": [
    {
     "data": {
      "image/png": "[encoded data removed]",
      "text/plain": [
       "<Figure size 720x504 with 1 Axes>"
      ]
     },
     "metadata": {
      "needs_background": "light"
     },
     "output_type": "display_data"
    }
   ],
   "source": [
    "fig = plt.figure()\n",
    "plt.xlabel('simulations')\n",
    "plt.ylabel('position at t=0.5')\n",
    "fig.set_size_inches(10, 7)\n",
    "plt.plot(x_pred[::50], label='NN x prediction') \n",
    "plt.plot(y_pred[::50], label='NN y predication') \n",
    "plt.plot(baseline_pred_x[::50], label='Formula x prediction') # not normalized\n",
    "plt.plot(baseline_pred_y[::50], label='Formula y prediction') # not normalized\n",
    "plt.plot(x_act[::50], label='x actual ')\n",
    "plt.plot(y_act[::50], label='y actual')\n",
    "plt.legend(bbox_to_anchor=(1.05, 1.0), loc='upper left')\n",
    "plt.show()\n",
    "\n",
    "# PROBLEM: DATA IS NORMALIZED BUT BASELINE PREDICTIONS ARENT"
   ]
  },
  {
   "cell_type": "markdown",
   "id": "d5fb3b29",
   "metadata": {},
   "source": [
    "# Evaluation"
   ]
  },
  {
   "cell_type": "code",
   "execution_count": null,
   "id": "3b4604e6",
   "metadata": {},
   "outputs": [],
   "source": []
  }
 ],
 "metadata": {
  "interpreter": {
   "hash": "4158c455f6fbd238463d225e32374cd628fb465de0e99af1b601eff60f49c402"
  },
  "kernelspec": {
   "display_name": "Python 3.7.1 ('base')",
   "language": "python",
   "name": "python3"
  },
  "language_info": {
   "codemirror_mode": {
    "name": "ipython",
    "version": 3
   },
   "file_extension": ".py",
   "mimetype": "text/x-python",
   "name": "python",
   "nbconvert_exporter": "python",
   "pygments_lexer": "ipython3",
   "version": "3.7.1"
  }
 },
 "nbformat": 4,
 "nbformat_minor": 5
}
