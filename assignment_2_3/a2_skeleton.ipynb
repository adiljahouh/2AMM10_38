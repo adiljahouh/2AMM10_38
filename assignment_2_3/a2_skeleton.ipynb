{
 "cells": [
  {
   "cell_type": "markdown",
   "id": "730fd591",
   "metadata": {},
   "source": [
    "<a href=\"https://colab.research.google.com/github/vlamen/tue-deeplearning/blob/main/assignments/assignment_2_3/a2_skeleton.ipynb\" target=\"_parent\"><img src=\"https://colab.research.google.com/assets/colab-badge.svg\" alt=\"Open In Colab\"/></a>"
   ]
  },
  {
   "cell_type": "markdown",
   "id": "d32f8d18",
   "metadata": {},
   "source": [
    "# Group Number:\n",
    "\n",
    "# Student 1:\n",
    "\n",
    "# Student 2: Srinidhi Ilango\n",
    "\n",
    "# Student 3:"
   ]
  },
  {
   "cell_type": "markdown",
   "id": "faec2056",
   "metadata": {},
   "source": [
    "# Downloading Data and Preliminaries"
   ]
  },
  {
   "cell_type": "code",
   "execution_count": 1,
   "id": "7d0580a5",
   "metadata": {},
   "outputs": [],
   "source": [
    "import pickle\n",
    "import matplotlib.pyplot as plt\n",
    "import matplotlib\n",
    "import numpy as np\n",
    "\n",
    "from zipfile import ZipFile\n",
    "import requests\n",
    "import io"
   ]
  },
  {
   "cell_type": "code",
   "execution_count": 26,
   "id": "eddc5580",
   "metadata": {},
   "outputs": [
    {
     "name": "stderr",
     "output_type": "stream",
     "text": [
      "d:\\installations\\anaconda3\\envs\\dl\\lib\\site-packages\\tqdm\\auto.py:22: TqdmWarning: IProgress not found. Please update jupyter and ipywidgets. See https://ipywidgets.readthedocs.io/en/stable/user_install.html\n",
      "  from .autonotebook import tqdm as notebook_tqdm\n"
     ]
    }
   ],
   "source": [
    "import torch\n",
    "import torch.nn as nn"
   ]
  },
  {
   "cell_type": "code",
   "execution_count": 2,
   "id": "b0756591",
   "metadata": {},
   "outputs": [],
   "source": [
    "def load_zip(url):\n",
    "    response = requests.get(url)\n",
    "    response.raise_for_status()\n",
    "    zipf = ZipFile(io.BytesIO(response.content))\n",
    "    return {name: zipf.read(name) for name in zipf.namelist()}\n",
    "\n",
    "def load_array(zipfile, fn):\n",
    "    return np.load(io.BytesIO(zipfile[fn]))"
   ]
  },
  {
   "cell_type": "code",
   "execution_count": 3,
   "id": "bb77a4be",
   "metadata": {},
   "outputs": [
    {
     "name": "stdout",
     "output_type": "stream",
     "text": [
      "Shapes of the training data:\n",
      "\n",
      "positions: (10000, 4, 2, 5)\n",
      "velocities: (10000, 1, 2, 5)\n",
      "charges: (10000, 5, 1)\n"
     ]
    }
   ],
   "source": [
    "\"\"\"\n",
    "This cell loads the training, validation or test data as numpy arrays,\n",
    "with the positions, initial velocities and charge data of the particles.\n",
    "\n",
    "The position arrays are shaped as\n",
    "[simulation id, time point (corresponding to t = 0, 0.5, 1 or 1.5), x/y spatial dimension, particle id].\n",
    "\n",
    "The initial velocity arrays are shaped as\n",
    "[simulation id, 1 (corresponding to t=0), x/y spatial dimension, particle id].\n",
    "\n",
    "The charge arrays are shaped as [simulation id, particle id, 1]\n",
    "\n",
    "\"\"\"\n",
    "\n",
    "data = load_zip('https://surfdrive.surf.nl/files/index.php/s/OIgda2ZRG8v0eqB/download')\n",
    "\n",
    "features = ['positions', 'velocities', 'charges']\n",
    "    \n",
    "positions_train, velocities_train, charges_train = (load_array(data, f'data/train/{f}.npy') for f in features)\n",
    "positions_valid, velocities_valid, charges_valid = (load_array(data, f'data/valid/{f}.npy') for f in features)\n",
    "positions_test, velocities_test, charges_test = (load_array(data, f'data/test/{f}.npy') for f in features)\n",
    "\n",
    "print('Shapes of the training data:\\n')\n",
    "print(f'positions: {positions_train.shape}')\n",
    "print(f'velocities: {velocities_train.shape}')\n",
    "print(f'charges: {charges_train.shape}')"
   ]
  },
  {
   "cell_type": "code",
   "execution_count": 4,
   "id": "1c3ea4cb",
   "metadata": {},
   "outputs": [
    {
     "name": "stdout",
     "output_type": "stream",
     "text": [
      "An example of retrieving data from the arrays:\n",
      "\n",
      "\n",
      "In simulation 42 of the training set, particle 3 with charge -1.0 had coordinates [-1.46130851  2.05159559].\n",
      "The initial velocity of this particle was [-0.24784824  0.28402364].\n"
     ]
    }
   ],
   "source": [
    "print('An example of retrieving data from the arrays:\\n\\n')\n",
    "\n",
    "sim_idx = 42\n",
    "t_idx = 2  # t_idx 0, 1, 2, 3 corresponds to t=0, 0.5, 1 and 1.5 respectively\n",
    "spatial_idx = (0,1)  # corresponds to both x and y dimension\n",
    "particle_idx = 3  # corresponds to particle with index 3\n",
    "\n",
    "p = positions_train[sim_idx, t_idx, spatial_idx, particle_idx]\n",
    "v = velocities_train[sim_idx, 0, spatial_idx, particle_idx]  # note: this array contains only the inital velocity -> hence the 0\n",
    "c = charges_train[sim_idx, particle_idx, 0] \n",
    "\n",
    "print(\n",
    "    f'In simulation {sim_idx} of the training set, particle {particle_idx} with charge {c} had coordinates {p}.\\nThe initial velocity of this particle was {v}.'\n",
    ")"
   ]
  },
  {
   "cell_type": "code",
   "execution_count": 18,
   "id": "ee5bebe6",
   "metadata": {},
   "outputs": [
    {
     "data": {
      "text/plain": [
       "(array([-0.64291873,  1.93309039]),\n",
       " array([[-2.37825743, -0.64291873,  1.60443825,  2.05159559, -3.77503191],\n",
       "        [ 1.90932565,  1.93309039,  1.0748045 , -1.46130851,  2.61176457]]))"
      ]
     },
     "execution_count": 18,
     "metadata": {},
     "output_type": "execute_result"
    }
   ],
   "source": [
    "positions_train[sim_idx, t_idx, :, 1], positions_train[sim_idx, t_idx, (0,1), :]"
   ]
  },
  {
   "cell_type": "markdown",
   "id": "30dec5c2",
   "metadata": {},
   "source": [
    "Input: position at time point 0, velocity at time point 0 and charges of 5 particels.\n",
    "output: position at time point t ( one of 0.5, 1, 1.5) - different models"
   ]
  },
  {
   "cell_type": "code",
   "execution_count": 23,
   "id": "10a3438a",
   "metadata": {},
   "outputs": [
    {
     "name": "stdout",
     "output_type": "stream",
     "text": [
      "Overview of no. datapoints:\n",
      "\n",
      "10000 train, 2000 validation, 2000 test simulations\n"
     ]
    }
   ],
   "source": [
    "print('Overview of no. datapoints:\\n')\n",
    "\n",
    "print(f'{len(positions_train)} train, {len(positions_valid)} validation, {len(positions_test)} test simulations')"
   ]
  },
  {
   "cell_type": "code",
   "execution_count": 24,
   "id": "f9106543",
   "metadata": {},
   "outputs": [],
   "source": [
    "def plot_example(pos, vel):\n",
    "\n",
    "    fig = plt.figure()\n",
    "    axes = plt.gca()\n",
    "    axes.set_xlim([-5., 5.])\n",
    "    axes.set_ylim([-5., 5.])\n",
    "    colors = ['red', 'blue', 'green', 'orange', 'brown']\n",
    "    for i in range(pos.shape[-1]):\n",
    "        plt.plot(pos[0, 0, i], pos[0, 1, i], 'd', color=colors[i])\n",
    "        plt.plot(pos[-1, 0, i], pos[-1, 1, i], 'x', color=colors[i])\n",
    "        plt.plot([pos[0, 0, i], pos[0, 0, i] + vel[0, 0, i]], [pos[0, 1, i], pos[0, 1, i] + vel[0, 1, i]], '--', color=colors[i])\n",
    "    fig.set_size_inches(7, 7)\n",
    "    plt.xlim(np.min(pos)-1, np.max(pos) +1)\n",
    "    plt.ylim(np.min(pos)-1, np.max(pos) +1)\n",
    "    plt.plot([], [], 'd', color='black', label='initial position')\n",
    "    plt.plot([], [], 'x', color='black', label='final position')\n",
    "    plt.plot([], [], '--', color='black', label='initial velocity \\ndirection and magnitude')\n",
    "    plt.legend()\n",
    "    \n",
    "    plt.show()\n",
    "    return"
   ]
  },
  {
   "cell_type": "code",
   "execution_count": 25,
   "id": "d28681a6",
   "metadata": {},
   "outputs": [
    {
     "data": {
      "image/png": "[encoded data removed]",
      "text/plain": [
       "<Figure size 504x504 with 1 Axes>"
      ]
     },
     "metadata": {
      "needs_background": "light"
     },
     "output_type": "display_data"
    }
   ],
   "source": [
    "random_idx = np.random.randint(0, 10000)\n",
    "plot_example(positions_train[random_idx], velocities_train[random_idx])"
   ]
  },
  {
   "cell_type": "markdown",
   "id": "059b633c",
   "metadata": {},
   "source": [
    "# Data Handling and Preprocessing"
   ]
  },
  {
   "cell_type": "code",
   "execution_count": 104,
   "id": "e6ecb529",
   "metadata": {},
   "outputs": [],
   "source": [
    "#todo: based on time index (1,2,3) return the coressponding as y to X at t=0\n",
    "from torch.utils.data import Dataset, DataLoader,TensorDataset\n",
    "class MyDataset(Dataset):\n",
    "    def __init__(self, veloc, pos, charges,time_id=1):\n",
    "        self.velocity = torch.FloatTensor(veloc)\n",
    "        self.charges = torch.FloatTensor(charges)\n",
    "        self.position = torch.FloatTensor(pos)\n",
    "        self.time_id = time_id\n",
    " \n",
    "    def __getitem__(self, index):\n",
    "        x_1 = self.velocity[index] #t=0\n",
    "        x_2 = self.charges[index] #t=0\n",
    "        x_3 = self.position[index, self.time_id].view(1,2,5)\n",
    "        y = self.position[index, self.time_id].view(1,2,5)\n",
    "        return x_1, x_2, x_3, y\n",
    "        # outputs list of 3 128 batches\n",
    "        # so [tensor(128, 1 , 4, 5), tensor(128, 1, 5)....]\n",
    "    def __len__(self):\n",
    "        return len(self.charges)"
   ]
  },
  {
   "cell_type": "code",
   "execution_count": 105,
   "id": "f8633eb8",
   "metadata": {},
   "outputs": [],
   "source": [
    "time_id = 1\n",
    "train_set =MyDataset(velocities_train, positions_train, charges_train,time_id)\n",
    "val_set = MyDataset(velocities_valid, positions_valid, charges_valid,time_id)\n",
    "\n",
    "train_loader = torch.utils.data.DataLoader(train_set, batch_size=128)\n",
    "val_loader = torch.utils.data.DataLoader(val_set, batch_size=128)"
   ]
  },
  {
   "cell_type": "code",
   "execution_count": 103,
   "id": "0a99a32b",
   "metadata": {},
   "outputs": [
    {
     "name": "stdout",
     "output_type": "stream",
     "text": [
      "torch.Size([128, 1, 2, 5]) torch.Size([128, 5, 1]) torch.Size([128, 1, 2, 5]) torch.Size([128, 1, 2, 5])\n",
      "veloc {sim, init_vel, x or y, ptxid} -  charge {sim, ptxid, charge} - pos {sim, time, x or y, ptxd}\n",
      "initial velocity tensor([-0.7878,  0.0267])\n",
      "initial position tensor([[[-2.3387,  4.4387, -5.1946, -4.0422,  0.4396],\n",
      "         [-0.2173, -2.9732,  9.4907, -3.3710, -3.1883]]])\n",
      "[128, 5, 1]\n"
     ]
    }
   ],
   "source": [
    "# check data\n",
    "for veloc, charges, position,target in train_loader:\n",
    "    print(veloc.shape, charges.shape, position.shape, target.shape)\n",
    "    print(\"veloc {sim, init_vel, x or y, ptxid} -  charge {sim, ptxid, charge} - pos {sim, time, x or y, ptxd}\")\n",
    "    print(\"initial velocity\",  veloc[0, 0, :, 0])\n",
    "    print(\"initial position\", position[0,:,])\n",
    "    print(list(charges.shape))\n",
    "    # we need to predict from init velocity\n",
    "    break"
   ]
  },
  {
   "cell_type": "markdown",
   "id": "18b2874d",
   "metadata": {},
   "source": [
    "# Model Implementation"
   ]
  },
  {
   "cell_type": "markdown",
   "id": "73ed6e94",
   "metadata": {},
   "source": [
    "The model should be permutation invariant (equivariant?) as all particles interact with one another simultaneously and the order does not matter."
   ]
  },
  {
   "cell_type": "code",
   "execution_count": 40,
   "id": "66774050",
   "metadata": {},
   "outputs": [],
   "source": [
    "#todo\n",
    "# Simple NN network for value prediction\n",
    "import numpy as np\n",
    "import torch\n",
    "from torch import nn\n",
    "import torch.nn.functional as F\n",
    "import torch.optim as optim\n",
    "class SimpleModel(nn.Module):\n",
    "    def __init__(self, input_dim):\n",
    "        super(SimpleModel, self).__init__()\n",
    "        self.layer1 = nn.Linear(input_dim,3)\n",
    "        self.layer2 = nn.Linear(3, 3)\n",
    "        self.layer3 = nn.Linear(3, 1)\n",
    "        # self.drop = nn.Dropout(0.2)\n",
    "        \n",
    "        \n",
    "    def forward(self, x):\n",
    "        x = F.relu(self.layer1(x))\n",
    "        # x = self.drop(x)\n",
    "        x = F.relu(self.layer2(x))\n",
    "        # x = self.drop(x)\n",
    "        x = F.relu(self.layer3(x))\n",
    "        return x"
   ]
  },
  {
   "cell_type": "code",
   "execution_count": 106,
   "id": "3a8dd8cf",
   "metadata": {},
   "outputs": [],
   "source": [
    "learning_rate = 1e-3\n",
    "weight_decay = 1e-6\n",
    "\n",
    "loss_fn = nn.MSELoss(reduction=\"mean\") # can do MSE/MAE depends on outliers\n",
    "model = SimpleModel(input_dim=3)\n",
    "optimizer = optim.Adam(model.parameters(), lr=learning_rate, weight_decay=weight_decay)\n",
    "criterion=loss_fn\n",
    "# trainloss, valloss = train(model= model, train_loader= train_loader, n_epochs=5, optimizer= optimizer, criterion=loss_fn)"
   ]
  },
  {
   "cell_type": "code",
   "execution_count": 68,
   "id": "ba598378",
   "metadata": {},
   "outputs": [
    {
     "name": "stderr",
     "output_type": "stream",
     "text": [
      "  0%|          | 0/79 [00:00<?, ?it/s]\n"
     ]
    },
    {
     "ename": "IndexError",
     "evalue": "index 1 is out of bounds for dimension 1 with size 1",
     "output_type": "error",
     "traceback": [
      "\u001b[1;31m---------------------------------------------------------------------------\u001b[0m",
      "\u001b[1;31mIndexError\u001b[0m                                Traceback (most recent call last)",
      "\u001b[1;32md:\\_srinidhi\\TUe - study\\Q4\\deep_learning\\assignment2_3\\assignment_2_3\\a2_skeleton.ipynb Cell 21'\u001b[0m in \u001b[0;36m<cell line: 6>\u001b[1;34m()\u001b[0m\n\u001b[0;32m     <a href='vscode-notebook-cell:/d%3A/_srinidhi/TUe%20-%20study/Q4/deep_learning/assignment2_3/assignment_2_3/a2_skeleton.ipynb#ch0000018?line=17'>18</a>\u001b[0m charge \u001b[39m=\u001b[39m charges[sim, ptxid, \u001b[39m0\u001b[39m]\n\u001b[0;32m     <a href='vscode-notebook-cell:/d%3A/_srinidhi/TUe%20-%20study/Q4/deep_learning/assignment2_3/assignment_2_3/a2_skeleton.ipynb#ch0000018?line=18'>19</a>\u001b[0m x \u001b[39m=\u001b[39m torch\u001b[39m.\u001b[39mcat([init_pos_xy\u001b[39m.\u001b[39mview(\u001b[39m1\u001b[39m), init_veloc_xy\u001b[39m.\u001b[39mview(\u001b[39m1\u001b[39m), charge\u001b[39m.\u001b[39mview(\u001b[39m1\u001b[39m)], dim\u001b[39m=\u001b[39m\u001b[39m0\u001b[39m) \u001b[39m# append pos, veloc, charge to 1 tensor\u001b[39;00m\n\u001b[1;32m---> <a href='vscode-notebook-cell:/d%3A/_srinidhi/TUe%20-%20study/Q4/deep_learning/assignment2_3/assignment_2_3/a2_skeleton.ipynb#ch0000018?line=19'>20</a>\u001b[0m y \u001b[39m=\u001b[39m torch\u001b[39m.\u001b[39mtensor([position[sim, \u001b[39m1\u001b[39;49m, coordinate_type, ptxid]])\n\u001b[0;32m     <a href='vscode-notebook-cell:/d%3A/_srinidhi/TUe%20-%20study/Q4/deep_learning/assignment2_3/assignment_2_3/a2_skeleton.ipynb#ch0000018?line=20'>21</a>\u001b[0m optimizer\u001b[39m.\u001b[39mzero_grad()\n\u001b[0;32m     <a href='vscode-notebook-cell:/d%3A/_srinidhi/TUe%20-%20study/Q4/deep_learning/assignment2_3/assignment_2_3/a2_skeleton.ipynb#ch0000018?line=21'>22</a>\u001b[0m outputs \u001b[39m=\u001b[39m model(x)\n",
      "\u001b[1;31mIndexError\u001b[0m: index 1 is out of bounds for dimension 1 with size 1"
     ]
    }
   ],
   "source": [
    "from tqdm import tqdm\n",
    "# def train(model, train_loader, n_epochs, optimizer, criterion):\n",
    "n_epochs = 2\n",
    "train_losses = []\n",
    "val_losses = []\n",
    "for epoch in range(n_epochs):\n",
    "    running_loss = 0.0\n",
    "    model.train()\n",
    "\n",
    "    for veloc, charges, position, y in tqdm(train_loader):\n",
    "\n",
    "        \n",
    "    #     size = list(veloc.shape)\n",
    "    #     for sim in range(size[0]): # batch size per batch\n",
    "    #         pt_loss = 0.0\n",
    "    #         for ptxid in range(5):\n",
    "    #             for coordinate_type in range(2):\n",
    "    #                 init_veloc_xy = veloc[sim, 0, coordinate_type, ptxid]\n",
    "    #                 init_pos_xy = position[sim, 0, coordinate_type, ptxid] \n",
    "    #                 charge = charges[sim, ptxid, 0]\n",
    "    #                 x = torch.cat([init_pos_xy.view(1), init_veloc_xy.view(1), charge.view(1)], dim=0) # append pos, veloc, charge to 1 tensor\n",
    "    #                 y = torch.tensor([position[sim, 1, coordinate_type, ptxid]])\n",
    "    #                 optimizer.zero_grad()\n",
    "    #                 outputs = model(x)\n",
    "    #                 loss = criterion(outputs, y)\n",
    "    #                 pt_loss += loss.item()\n",
    "    #                 loss.backward()\n",
    "    #                 optimizer.step()\n",
    "    #         pt_loss = pt_loss/10\n",
    "    #         running_loss += pt_loss\n",
    "                \n",
    "    # avg_train_loss = running_loss / (len(train_loader) * 128) # batch size\n",
    "    # train_losses.append(avg_train_loss)\n"
   ]
  },
  {
   "cell_type": "code",
   "execution_count": null,
   "id": "95154df7",
   "metadata": {},
   "outputs": [],
   "source": []
  },
  {
   "cell_type": "markdown",
   "id": "dea70d73",
   "metadata": {},
   "source": [
    "# Model Training"
   ]
  },
  {
   "cell_type": "code",
   "execution_count": null,
   "id": "3af520ae",
   "metadata": {},
   "outputs": [],
   "source": [
    "#todo"
   ]
  },
  {
   "cell_type": "code",
   "execution_count": null,
   "id": "e95af5f9",
   "metadata": {},
   "outputs": [],
   "source": []
  },
  {
   "cell_type": "code",
   "execution_count": null,
   "id": "07e03ddf",
   "metadata": {},
   "outputs": [],
   "source": []
  },
  {
   "cell_type": "markdown",
   "id": "d5fb3b29",
   "metadata": {},
   "source": [
    "# Evaluation"
   ]
  },
  {
   "cell_type": "code",
   "execution_count": null,
   "id": "bf5fa1b4",
   "metadata": {},
   "outputs": [],
   "source": [
    "#todo"
   ]
  },
  {
   "cell_type": "code",
   "execution_count": null,
   "id": "2280031f",
   "metadata": {},
   "outputs": [],
   "source": []
  },
  {
   "cell_type": "code",
   "execution_count": null,
   "id": "3a8240f1",
   "metadata": {},
   "outputs": [],
   "source": []
  }
 ],
 "metadata": {
  "interpreter": {
   "hash": "adc65bd17b90bc81ceb5a25ba99c9506844573e4b95946b15baa885a4f73e2ea"
  },
  "kernelspec": {
   "display_name": "Python 3.9.12 ('dl')",
   "language": "python",
   "name": "python3"
  },
  "language_info": {
   "codemirror_mode": {
    "name": "ipython",
    "version": 3
   },
   "file_extension": ".py",
   "mimetype": "text/x-python",
   "name": "python",
   "nbconvert_exporter": "python",
   "pygments_lexer": "ipython3",
   "version": "3.9.12"
  }
 },
 "nbformat": 4,
 "nbformat_minor": 5
}
