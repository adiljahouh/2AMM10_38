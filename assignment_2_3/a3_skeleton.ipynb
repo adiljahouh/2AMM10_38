{
 "cells": [
  {
   "cell_type": "markdown",
   "id": "963690b2",
   "metadata": {},
   "source": [
    "<a href=\"https://colab.research.google.com/github/vlamen/tue-deeplearning/blob/main/assignments/assignment_2_3/a3_skeleton.ipynb\" target=\"_parent\"><img src=\"https://colab.research.google.com/assets/colab-badge.svg\" alt=\"Open In Colab\"/></a>"
   ]
  },
  {
   "cell_type": "markdown",
   "id": "bd8459f1",
   "metadata": {},
   "source": [
    "# Group Number:\n",
    "\n",
    "# Student 1: Adil \n",
    "\n",
    "# Student 2: Anvitha\n",
    "\n",
    "# Student 3: Srinidhi Ilango"
   ]
  },
  {
   "cell_type": "markdown",
   "id": "dde28458",
   "metadata": {},
   "source": [
    "# Downloading Data and Preliminaries"
   ]
  },
  {
   "cell_type": "code",
   "execution_count": 1,
   "id": "7d0580a5",
   "metadata": {},
   "outputs": [],
   "source": [
    "import pickle\n",
    "import matplotlib.pyplot as plt\n",
    "import matplotlib\n",
    "import numpy as np\n",
    "\n",
    "from zipfile import ZipFile\n",
    "import requests\n",
    "import io"
   ]
  },
  {
   "cell_type": "code",
   "execution_count": 2,
   "id": "8ce00edc",
   "metadata": {},
   "outputs": [],
   "source": [
    "def load_zip(url):\n",
    "    response = requests.get(url)\n",
    "    response.raise_for_status()\n",
    "    zipf = ZipFile(io.BytesIO(response.content))\n",
    "    return {name: zipf.read(name) for name in zipf.namelist()}\n",
    "\n",
    "def load_pickle(zipfile, fn):\n",
    "    return pickle.load(io.BytesIO(zipfile[fn]))"
   ]
  },
  {
   "cell_type": "code",
   "execution_count": 3,
   "id": "bb77a4be",
   "metadata": {},
   "outputs": [],
   "source": [
    "data = load_zip('https://surfdrive.surf.nl/files/index.php/s/cwqGaS22KXgnXtg/download')\n",
    "\n",
    "    \n",
    "\"\"\"\n",
    "simulation_{train, valid, test} is stored as a list of simulations. \n",
    "Each simulation is a numpy array of size (t, 2): For t timesteps an x and y coordinate of our particle.\n",
    "\"\"\"\n",
    "simulation_train = load_pickle(data, 'data/train/simulation.pickle')  # 3.1 + 3.2\n",
    "simulation_valid = load_pickle(data, 'data/valid/simulation.pickle')  # 3.1 + 3.2\n",
    "simulation_test = load_pickle(data, 'data/test/simulation.pickle')  # 3.1 + 3.2\n",
    "\n",
    "\"\"\"\n",
    "charges_{train, valid, test} is stored as a list of simulation-charges. \n",
    "These charges are stored as numpy arrays of size (3,): One value for each charge.\n",
    "\"\"\"\n",
    "charges_train = load_pickle(data, 'data/train/charges.pickle')  # 3.1\n",
    "charges_valid = load_pickle(data, 'data/valid/charges.pickle')  # 3.1\n",
    "charges_test = load_pickle(data, 'data/test/charges.pickle')  # 3.1\n",
    "\n",
    "\"\"\"\n",
    "simulation_continued_{train, valid, test} is stored as a list of simulations. \n",
    "Each simulation is a numpy array of size (t, 2): For t timesteps an x and y coordinate of our particle.\n",
    "\"\"\"\n",
    "simulation_continued_train = load_pickle(data, 'data/train/simulation_continued.pickle')  # 3.2\n",
    "simulation_continued_valid = load_pickle(data, 'data/valid/simulation_continued.pickle')  # 3.2\n",
    "simulation_continued_test = load_pickle(data, 'data/test/simulation_continued.pickle')  # 3.2\n",
    "\n",
    "\"\"\"\n",
    "Note that the indices are shared throughout the different lists, e.g., for the 4th training simulation:\n",
    "simulation_train[3] contains its initial simulation\n",
    "charges_train[3] contains the charges associated with the simulation\n",
    "simulation_continued_train[3] contains the continuation of the simulation \n",
    "                --> simulation_continued_train[3][0] is the state after simulation_train[3][-1]\n",
    "\"\"\"\n",
    "pass"
   ]
  },
  {
   "cell_type": "code",
   "execution_count": 4,
   "id": "10a3438a",
   "metadata": {},
   "outputs": [
    {
     "name": "stdout",
     "output_type": "stream",
     "text": [
      "Overview of no. datapoints:\n",
      "\n",
      "Task 3.1:\n",
      "800 train, 100 validation, 100 test simulations\n",
      "800 train, 100 validation, 100 test charge pairs\n",
      "\n",
      "Task 3.2:\n",
      "Since len(simulation_continued_train) < len(simulation_train), we can only use a subset of initial simulations\n",
      "We cut simulation_train down to the first 150 samples in simulation_train_task32\n",
      "150 train, 100 validation, 100 test simulations\n",
      "150 train, 100 validation, 100 test continuations\n",
      "\n",
      "For task 3.1, use:\n",
      "simulation_train + charges_train\n",
      "simulation_valid + charges_valid\n",
      "simulation_test + charges_test\n",
      "\n",
      "For task 3.2, use:\n",
      "simulation_train_task32 + simulation_continued_train\n",
      "simulation_valid + simulation_continued_valid\n",
      "simulation_test + simulation_continued_test\n",
      "\n"
     ]
    }
   ],
   "source": [
    "print('Overview of no. datapoints:\\n')\n",
    "\n",
    "print('Task 3.1:')\n",
    "print(f'{len(simulation_train)} train, {len(simulation_valid)} validation, {len(simulation_test)} test simulations')\n",
    "print(f'{len(charges_train)} train, {len(charges_valid)} validation, {len(charges_test)} test charge pairs')\n",
    "print()\n",
    "\n",
    "print('Task 3.2:')\n",
    "print('Since len(simulation_continued_train) < len(simulation_train), we can only use a subset of initial simulations')\n",
    "print('We cut simulation_train down to the first 150 samples in simulation_train_task32')\n",
    "simulation_train_task32 = simulation_train[:150]\n",
    "print(f'{len(simulation_train_task32)} train, {len(simulation_valid)} validation, {len(simulation_test)} test simulations')\n",
    "print(f'{len(simulation_continued_train)} train, {len(simulation_continued_valid)} validation, {len(simulation_continued_test)} test continuations')\n",
    "\n",
    "print(f\"\"\"\n",
    "For task 3.1, use:\n",
    "{chr(10).join([\"simulation_{} + charges_{}\".format(t, t) for t in [\"train\", \"valid\", \"test\"]])}\n",
    "\n",
    "For task 3.2, use:\n",
    "{chr(10).join([\"simulation_{} + simulation_continued_{}\".format(*((t[0], t[1]) if isinstance(t, tuple) else (t, t))) for t in [(\"train_task32\", \"train\"), \"valid\", \"test\"]])}\n",
    "\"\"\")\n"
   ]
  },
  {
   "cell_type": "code",
   "execution_count": 6,
   "id": "3cfafdb3",
   "metadata": {},
   "outputs": [
    {
     "name": "stdout",
     "output_type": "stream",
     "text": [
      "Print some shapes:\n",
      "\n",
      "simulation_train[0].shape: (103, 2) -> (t, 2), (x, y) at every t)\n",
      "charges_train[0].shape: (3,) -> charges for the simulation\n",
      "simulation_continued_train[0].shape: (54, 2) -> (t, 2), (x, y) at every t)\n",
      "----\n",
      "\n",
      "simulation_train[1].shape: (97, 2) -> (t, 2), (x, y) at every t)\n",
      "charges_train[1].shape: (3,) -> charges for the simulation\n",
      "simulation_continued_train[1].shape: (45, 2) -> (t, 2), (x, y) at every t)\n",
      "----\n",
      "\n",
      "simulation_train[2].shape: (99, 2) -> (t, 2), (x, y) at every t)\n",
      "charges_train[2].shape: (3,) -> charges for the simulation\n",
      "simulation_continued_train[2].shape: (47, 2) -> (t, 2), (x, y) at every t)\n",
      "----\n",
      "\n"
     ]
    }
   ],
   "source": [
    "print('Print some shapes:\\n')\n",
    "for i in range(3):\n",
    "    print('simulation_train[{}].shape:'.format(i), simulation_train[i].shape, '-> (t, 2), (x, y) at every t)')\n",
    "    print('charges_train[{}].shape:'.format(i), charges_train[i].shape, '-> charges for the simulation')\n",
    "    print('simulation_continued_train[{}].shape:'.format(i), simulation_continued_train[i].shape, '-> (t, 2), (x, y) at every t)')\n",
    "    print('----\\n')"
   ]
  },
  {
   "cell_type": "code",
   "execution_count": 7,
   "id": "f9106543",
   "metadata": {},
   "outputs": [],
   "source": [
    "def plot_example(x, x_gt=None, x_pred=None, fn=None):\n",
    "    charge_locations = np.array([[-1.53846154, -1.53846154],\n",
    "                                 [ 1.53846154, -1.53846154],\n",
    "                                 [ 0.        ,  1.53846154]])  # charge locations are fixed\n",
    "    fig = plt.figure()\n",
    "    axes = plt.gca()\n",
    "    axes.set_xlim([-5., 5.])\n",
    "    axes.set_ylim([-5., 5.])\n",
    "    cmap = matplotlib.cm.get_cmap('tab20')\n",
    "    plt.plot(x[:, 0], x[:, 1], color=cmap(0))\n",
    "    plt.plot(x[0, 0], x[0, 1], 'd', color=cmap(1))\n",
    "    fig.set_size_inches(5, 5)\n",
    "    for charge in charge_locations:\n",
    "        plt.plot(charge[0], charge[1], 'd', color='black')\n",
    "    if x_gt is not None:\n",
    "        plt.plot(x_gt[:, 0], x_gt[:, 1], color='red', linewidth=.5)\n",
    "    if x_pred is not None:\n",
    "        plt.plot(x_pred[:, 0], x_pred[:, 1], color='green', linestyle='--')\n",
    "    if fn is None:\n",
    "        plt.show()\n",
    "    else:\n",
    "        plt.savefig(fn)"
   ]
  },
  {
   "cell_type": "code",
   "execution_count": 8,
   "id": "d28681a6",
   "metadata": {},
   "outputs": [
    {
     "data": {
      "image/png": "[encoded data removed]",
      "text/plain": [
       "<Figure size 360x360 with 1 Axes>"
      ]
     },
     "metadata": {
      "needs_background": "light"
     },
     "output_type": "display_data"
    },
    {
     "name": "stdout",
     "output_type": "stream",
     "text": [
      "Charges are [-0.09808531 -0.5563076  -0.58221579]\n"
     ]
    }
   ],
   "source": [
    "test_idx = np.random.randint(150)\n",
    "plot_example(simulation_train[test_idx], simulation_continued_train[test_idx])\n",
    "print(f'Charges are {charges_train[test_idx]}')"
   ]
  },
  {
   "cell_type": "code",
   "execution_count": 5,
   "id": "566bfb0b",
   "metadata": {},
   "outputs": [],
   "source": [
    "# saving and loading checkpoint mechanisms \n",
    "# modules adapted from https://github.com/ttchengab/One_Shot_Pytorch/blob/master/network.ipynb\n",
    "\n",
    "def save_checkpoint(save_path, model, optimizer, val_loss):\n",
    "  \"\"\"\n",
    "  Utility function for saving the model \n",
    "\n",
    "  Input\n",
    "    --save_path: path to save the model\n",
    "    --model: model to be saved\n",
    "    --optimizer: optimizer to be saved\n",
    "    --val_loss: lowest validation loss so far\n",
    "\n",
    "  Output\n",
    "    Saved model as pt file\n",
    "  \"\"\"\n",
    "  if save_path==None:\n",
    "      return\n",
    "  save_path = save_path \n",
    "  state_dict = {'model_state_dict': model.state_dict(),\n",
    "                'optimizer_state_dict': optimizer.state_dict(),\n",
    "                'val_loss': val_loss}\n",
    "\n",
    "  torch.save(state_dict, save_path)\n",
    "  print(f'Model saved to ==> {save_path}')\n",
    "\n",
    "\n",
    "def load_checkpoint(model, optimizer):\n",
    "  \"\"\"\n",
    "  Utility function to load a saved model\n",
    "  Input\n",
    "    --model: model object to load the weights into\n",
    "    --optimizer: optimizer object\n",
    "    \n",
    "  Output:\n",
    "    Validation loss\n",
    "  \"\"\"\n",
    "  save_path = f'SiameseNetwork.pt'\n",
    "  state_dict = torch.load(save_path)\n",
    "  model.load_state_dict(state_dict['model_state_dict'])\n",
    "  optimizer.load_state_dict(state_dict['optimizer_state_dict'])\n",
    "  val_loss = state_dict['val_loss']\n",
    "  print(f'Model loaded from <== {save_path}')\n",
    "  \n",
    "  return val_loss"
   ]
  },
  {
   "cell_type": "markdown",
   "id": "883762b1",
   "metadata": {},
   "source": [
    "# Task 3.1"
   ]
  },
  {
   "cell_type": "markdown",
   "id": "4c1ddabe",
   "metadata": {},
   "source": [
    "## Data Handling and Preprocessing"
   ]
  },
  {
   "cell_type": "markdown",
   "id": "31fe48be",
   "metadata": {},
   "source": [
    "Here, we deliberated over one of the following two options as the simulations have different lengths:\n",
    "1. zero padding to match the simulation lenghts\n",
    "2. without zero padding, pass one simuation at a time into the network and aggregate the outputs for backprop [ref1](https://discuss.pytorch.org/t/dataloader-for-various-length-of-data/6418/12#:~:text=2%20MONTHS%20LATER-,GalAvineri,-cdjhz), [ref2](https://stackoverflow.com/questions/51030782/why-do-we-pack-the-sequences-in-pytorch)\n",
    "\n",
    "We now try the second option <br>\n",
    "-- the model should be invariant to rotation, not sure about the implementation\n",
    "[REF](https://discuss.pytorch.org/t/dataloader-for-various-length-of-data/6418/13)"
   ]
  },
  {
   "cell_type": "code",
   "execution_count": 16,
   "id": "bd9df856",
   "metadata": {},
   "outputs": [],
   "source": [
    "#todo \n",
    "#1: can add data normalization later\n",
    "#2: data augmentation - slice through longer time points as the outputs must remain same\n",
    "#3: data augmentation - time reveral should not affect the result (#data-pts*2)\n",
    "\n",
    "import torch\n",
    "from torch.utils.data import DataLoader\n",
    "from torch.nn.utils.rnn import pad_sequence, pack_padded_sequence, pad_packed_sequence\n",
    "\n",
    "device = torch.device('cuda:0' if torch.cuda.is_available() else 'cpu')\n",
    "# device = 'cpu'\n",
    "\n",
    "def collate_batch(batch):\n",
    "    '''\n",
    "    Args:\n",
    "        batch: batch sizes list of tuples (features, target)\n",
    "    \n",
    "    Returns:\n",
    "        packed input simulation and corresponding targets\n",
    "    \n",
    "    '''\n",
    "    data = [torch.from_numpy(item[0]).float() for item in batch]\n",
    "    lengths = [d.size(0) for d in data]\n",
    "\n",
    "    padded_data = pad_sequence(data, batch_first=True, padding_value=0)\n",
    "    packed_data = pack_padded_sequence(padded_data, lengths, batch_first=True, enforce_sorted=False)\n",
    "    \n",
    "    targets = np.array([item[1] for item in batch])\n",
    "\n",
    "    return packed_data.to(device), torch.tensor(targets).float().to(device)\n",
    "    "
   ]
  },
  {
   "cell_type": "code",
   "execution_count": 17,
   "id": "4ec1e03a",
   "metadata": {},
   "outputs": [],
   "source": [
    "# defining a DataLoaders for training, validation and testing\n",
    " \n",
    "batch_len = 8\n",
    "\n",
    "train_loader = DataLoader(tuple(zip(simulation_train, charges_train)), batch_size = batch_len, \n",
    "                        collate_fn = collate_batch)#,pin_memory=True)\n",
    "\n",
    "val_loader = DataLoader(tuple(zip(simulation_valid, charges_valid)), batch_size = batch_len, \n",
    "                        collate_fn = collate_batch)#,pin_memory=True)\n",
    "\n",
    "test_loader = DataLoader(tuple(zip(simulation_test, charges_train)),batch_size=1,\n",
    "                        collate_fn = collate_batch)#,pin_memory=True)"
   ]
  },
  {
   "cell_type": "markdown",
   "id": "b8af0e89",
   "metadata": {},
   "source": [
    "### workshpace"
   ]
  },
  {
   "cell_type": "code",
   "execution_count": null,
   "id": "d172ae65",
   "metadata": {},
   "outputs": [],
   "source": [
    "# def collate_batch(batch):\n",
    "#     # batch cointains a list of tuples of structure (sequence, target)\n",
    "#     data = [torch.from_numpy(item[0]) for item in batch]\n",
    "#     # print(len(data))\n",
    "#     data = pack_sequence(data, enforce_sorted=False)\n",
    "#     # print(len(data))\n",
    "#     targets = np.array([item[1] for item in batch])\n",
    "#     return data.to(device), torch.tensor(targets).to(device)\n"
   ]
  },
  {
   "cell_type": "code",
   "execution_count": 8,
   "id": "0161c84e",
   "metadata": {},
   "outputs": [
    {
     "name": "stdout",
     "output_type": "stream",
     "text": [
      "4\n"
     ]
    }
   ],
   "source": [
    "for features,targets in test_loader:\n",
    "    print(len(features))\n",
    "    break"
   ]
  },
  {
   "cell_type": "markdown",
   "id": "cc8853f6",
   "metadata": {},
   "source": [
    "## Model Implementation"
   ]
  },
  {
   "cell_type": "markdown",
   "id": "87dd5841",
   "metadata": {},
   "source": [
    "[ref1](https://stackoverflow.com/questions/44643137/how-do-you-use-pytorch-packedsequence-in-code)\n",
    "[ref2](https://www.crosstab.io/articles/time-series-pytorch-lstm)"
   ]
  },
  {
   "cell_type": "code",
   "execution_count": 8,
   "id": "8794a0cf",
   "metadata": {},
   "outputs": [],
   "source": [
    "#todo: clean up code, understand it better\n",
    "#can add normalizatoin, dropouts, regularization\n",
    "\n",
    "from torch import nn\n",
    "\n",
    "class RegressionLSTM(nn.Module):\n",
    "    \"\"\"\n",
    "    LSTM model to find the charge of three particles\n",
    "    \"\"\"\n",
    "    def __init__(self, inp_size=2, hidden_size=110, n_layers=1, batch_size=8, dropout=0.5):\n",
    "        super(RegressionLSTM, self).__init__()\n",
    "        \n",
    "        self.inp_size = inp_size\n",
    "        self.hidden_size = hidden_size\n",
    "        self.n_layers = n_layers\n",
    "        self.batch_size = batch_size\n",
    "\n",
    "        self.drop = nn.Dropout(p= dropout)        \n",
    "        self.rnn = nn.LSTM(\n",
    "            input_size = self.inp_size,\n",
    "            hidden_size = self.hidden_size,\n",
    "            num_layers = self.n_layers,\n",
    "            batch_first = True\n",
    "        )\n",
    "\n",
    "        self.fc1 = nn.Linear(hidden_size, hidden_size)\n",
    "        self.fc2 = nn.Linear(in_features=self.hidden_size, out_features=3)\n",
    "\n",
    "    \n",
    "    def forward(self, x):\n",
    "        # h0 = torch.zeros(self.n_layers, self.batch_size ,self.hidden_size).requires_grad_()\n",
    "        # c0 = torch.zeros(self.n_layers, self.batch_size, self.hidden_size).requires_grad_()\n",
    "        \n",
    "        _,(hn,_) = self.rnn(x)#,(h0,c0))\n",
    "        last_hidden_layer = hn[0]\n",
    "        last_hidden_layer = self.drop(last_hidden_layer)\n",
    "        h = self.fc1(last_hidden_layer)\n",
    "        h = nn.ReLU()(h)\n",
    "\n",
    "        output = self.fc2(h)\n",
    "\n",
    "        return output"
   ]
  },
  {
   "cell_type": "markdown",
   "id": "44bd2d70",
   "metadata": {},
   "source": [
    "### rough work"
   ]
  },
  {
   "cell_type": "code",
   "execution_count": 15,
   "id": "d62b5aa6",
   "metadata": {},
   "outputs": [
    {
     "name": "stdout",
     "output_type": "stream",
     "text": [
      "tensor([[-0.0025,  0.0249, -0.1600],\n",
      "        [-0.0624,  0.0888, -0.0651],\n",
      "        [-0.0359,  0.0848, -0.0493],\n",
      "        [-0.0468,  0.1455,  0.0264],\n",
      "        [-0.0571,  0.0753, -0.0907],\n",
      "        [-0.0366,  0.1009, -0.0218],\n",
      "        [-0.0115,  0.1144,  0.0309],\n",
      "        [-0.0021,  0.0560, -0.0602]], grad_fn=<AddmmBackward0>)\n",
      "tensor([[-0.9951, -0.4482, -0.2730],\n",
      "        [-0.9845, -0.1668, -0.3479],\n",
      "        [-0.0918, -0.3541, -0.6817],\n",
      "        [-0.8102, -0.6751, -0.1659],\n",
      "        [-0.7157, -0.8646, -0.9235],\n",
      "        [-0.1375, -0.0528, -0.9531],\n",
      "        [-0.4891, -0.5396, -0.5350],\n",
      "        [-0.1714, -0.3899, -0.2192]])\n"
     ]
    }
   ],
   "source": [
    "from torch.autograd import Variable\n",
    "num_layers = 1\n",
    "hidden_size = 110\n",
    "input_size = 2\n",
    "batch_size = 3\n",
    "rnn = nn.LSTM(input_size =2, hidden_size = 110, num_layers = 1, batch_first = True)\n",
    "# lSTM output is (batch_size,seq_len, num_directions * hidden_size)\n",
    "lstm = nn.LSTM(input_size, hidden_size, batch_first=True).to(device)\n",
    "linear = nn.Linear(in_features= hidden_size, out_features=3).to(device)\n",
    "\n",
    "for batch, target in train_loader:\n",
    "    \n",
    "    # seq_len, batch_size\n",
    "    h0 = torch.zeros(num_layers, batch_size ,hidden_size).requires_grad_()\n",
    "    c0 = torch.zeros(num_layers, batch_size, hidden_size).requires_grad_()\n",
    "    # hidden = (h0,c0)\n",
    "    # out,_ = rnn(batch,h0)\n",
    "    o, (h0, c0) = lstm(batch)#,(h0,c0))\n",
    "    out = linear(h0[0])#.flatten()\n",
    "    print(out)\n",
    "    print(target)\n",
    "\n",
    "    "
   ]
  },
  {
   "cell_type": "code",
   "execution_count": 26,
   "id": "5192ee18",
   "metadata": {},
   "outputs": [],
   "source": [
    "import torch\n",
    "from torch import nn\n",
    "from torch.nn.utils.rnn import pad_sequence, pack_padded_sequence, pad_packed_sequence\n",
    "# https://stackoverflow.com/questions/44643137/how-do-you-use-pytorch-packedsequence-in-code\n",
    "\n",
    "\n",
    "# data = [torch.tensor([1]),\n",
    "#         torch.tensor([2, 3, 4, 5]), \n",
    "#         torch.tensor([6, 7]),\n",
    "#         torch.tensor([8, 9, 10])]\n",
    "\n",
    "data = [torch.tensor(data).float() for data in simulation_train[:2]]\n",
    "lengths = [d.size(0) for d in data]\n",
    "\n",
    "padded_data = pad_sequence(data, batch_first=True, padding_value=0) \n",
    "padded_data.required_grad = True\n",
    "# embedding = nn.Embedding(20, 4, padding_idx=0)\n",
    "# embeded_data = embedding(padded_data)\n",
    "\n",
    "packed_data = pack_padded_sequence(padded_data, lengths, batch_first=True, enforce_sorted=False)\n",
    "lstm = nn.LSTM(input_size=2, hidden_size=3, batch_first=True)\n",
    "o, (h, c) = lstm(packed_data)\n",
    "\n",
    "# (h, c) is the needed final hidden and cell state, with index already restored correctly by LSTM.\n",
    "# but o is a PackedSequence object, to restore to the original index:\n",
    "\n",
    "unpacked_o, unpacked_lengths = pad_packed_sequence(o, batch_first=True)\n",
    "# now unpacked_o, (h, c) is just like the normal output you expected from a lstm layer.\n",
    "\n",
    "print(unpacked_o, unpacked_lengths)"
   ]
  },
  {
   "cell_type": "markdown",
   "id": "0e443b7f",
   "metadata": {},
   "source": [
    "## Model Training"
   ]
  },
  {
   "cell_type": "code",
   "execution_count": 33,
   "id": "54d99d35",
   "metadata": {},
   "outputs": [],
   "source": [
    "# trainng and validation for every epoch\n",
    "\n",
    "def train(model, train_loader, val_loader, num_epochs, loss_fn, save_name):\n",
    "\n",
    "    best_val_loss = float(\"Inf\") \n",
    "    train_losses = []\n",
    "    val_losses = []\n",
    "    \n",
    "    for epoch in range(num_epochs):\n",
    "        running_loss = 0.0\n",
    "        model.train()\n",
    "        for X, y in tqdm(train_loader):\n",
    "            output = model(X)\n",
    "            loss = loss_fn(output, y)\n",
    "\n",
    "            optimizer.zero_grad()\n",
    "            loss.backward()\n",
    "            optimizer.step()\n",
    "\n",
    "        running_loss += loss.item()\n",
    "\n",
    "        avg_train_loss = running_loss/ len(train_loader)\n",
    "        train_losses.append(avg_train_loss)\n",
    "\n",
    "\n",
    "        val_running_loss = 0.0\n",
    "        \n",
    "        with torch.no_grad():\n",
    "            model.eval()\n",
    "            for X,y in val_loader:\n",
    "                output = model(X)\n",
    "                loss = loss_fn(output, y)\n",
    "            val_running_loss += loss.item()\n",
    "\n",
    "            avg_val_loss = val_running_loss/ len(val_loader)\n",
    "            val_losses.append(avg_val_loss)\n",
    "\n",
    "        print('Epoch [{}/{}], train_loss: {:.4f}, val_loss: {:.4f}'\n",
    "                .format(epoch+1, num_epochs, avg_train_loss, avg_val_loss))\n",
    "\n",
    "        if avg_val_loss < best_val_loss:\n",
    "                best_val_loss = avg_val_loss\n",
    "                save_checkpoint(save_name, model, optimizer, best_val_loss)\n",
    "    \n",
    "    print('Finished Training!!')\n",
    "    return train_losses, val_losses\n"
   ]
  },
  {
   "cell_type": "code",
   "execution_count": 36,
   "id": "5a5b0aca",
   "metadata": {},
   "outputs": [
    {
     "name": "stderr",
     "output_type": "stream",
     "text": [
      "100%|██████████| 100/100 [00:01<00:00, 89.95it/s]\n"
     ]
    },
    {
     "name": "stdout",
     "output_type": "stream",
     "text": [
      "Epoch [1/30], train_loss: 0.0031, val_loss: 0.0309\n",
      "Model saved to ==> test_run1.pt\n"
     ]
    },
    {
     "name": "stderr",
     "output_type": "stream",
     "text": [
      "100%|██████████| 100/100 [00:00<00:00, 111.45it/s]\n"
     ]
    },
    {
     "name": "stdout",
     "output_type": "stream",
     "text": [
      "Epoch [2/30], train_loss: 0.0029, val_loss: 0.0299\n",
      "Model saved to ==> test_run1.pt\n"
     ]
    },
    {
     "name": "stderr",
     "output_type": "stream",
     "text": [
      "100%|██████████| 100/100 [00:00<00:00, 121.15it/s]\n"
     ]
    },
    {
     "name": "stdout",
     "output_type": "stream",
     "text": [
      "Epoch [3/30], train_loss: 0.0028, val_loss: 0.0289\n",
      "Model saved to ==> test_run1.pt\n"
     ]
    },
    {
     "name": "stderr",
     "output_type": "stream",
     "text": [
      "100%|██████████| 100/100 [00:00<00:00, 107.74it/s]\n"
     ]
    },
    {
     "name": "stdout",
     "output_type": "stream",
     "text": [
      "Epoch [4/30], train_loss: 0.0027, val_loss: 0.0279\n",
      "Model saved to ==> test_run1.pt\n"
     ]
    },
    {
     "name": "stderr",
     "output_type": "stream",
     "text": [
      "100%|██████████| 100/100 [00:01<00:00, 81.72it/s]\n"
     ]
    },
    {
     "name": "stdout",
     "output_type": "stream",
     "text": [
      "Epoch [5/30], train_loss: 0.0026, val_loss: 0.0269\n",
      "Model saved to ==> test_run1.pt\n"
     ]
    },
    {
     "name": "stderr",
     "output_type": "stream",
     "text": [
      "100%|██████████| 100/100 [00:00<00:00, 110.83it/s]\n"
     ]
    },
    {
     "name": "stdout",
     "output_type": "stream",
     "text": [
      "Epoch [6/30], train_loss: 0.0025, val_loss: 0.0257\n",
      "Model saved to ==> test_run1.pt\n"
     ]
    },
    {
     "name": "stderr",
     "output_type": "stream",
     "text": [
      "100%|██████████| 100/100 [00:01<00:00, 98.19it/s]\n"
     ]
    },
    {
     "name": "stdout",
     "output_type": "stream",
     "text": [
      "Epoch [7/30], train_loss: 0.0023, val_loss: 0.0243\n",
      "Model saved to ==> test_run1.pt\n"
     ]
    },
    {
     "name": "stderr",
     "output_type": "stream",
     "text": [
      "100%|██████████| 100/100 [00:00<00:00, 119.79it/s]\n"
     ]
    },
    {
     "name": "stdout",
     "output_type": "stream",
     "text": [
      "Epoch [8/30], train_loss: 0.0022, val_loss: 0.0226\n",
      "Model saved to ==> test_run1.pt\n"
     ]
    },
    {
     "name": "stderr",
     "output_type": "stream",
     "text": [
      "100%|██████████| 100/100 [00:00<00:00, 123.28it/s]\n"
     ]
    },
    {
     "name": "stdout",
     "output_type": "stream",
     "text": [
      "Epoch [9/30], train_loss: 0.0020, val_loss: 0.0204\n",
      "Model saved to ==> test_run1.pt\n"
     ]
    },
    {
     "name": "stderr",
     "output_type": "stream",
     "text": [
      "100%|██████████| 100/100 [00:00<00:00, 109.27it/s]\n"
     ]
    },
    {
     "name": "stdout",
     "output_type": "stream",
     "text": [
      "Epoch [10/30], train_loss: 0.0018, val_loss: 0.0174\n",
      "Model saved to ==> test_run1.pt\n"
     ]
    },
    {
     "name": "stderr",
     "output_type": "stream",
     "text": [
      "100%|██████████| 100/100 [00:00<00:00, 102.32it/s]\n"
     ]
    },
    {
     "name": "stdout",
     "output_type": "stream",
     "text": [
      "Epoch [11/30], train_loss: 0.0015, val_loss: 0.0128\n",
      "Model saved to ==> test_run1.pt\n"
     ]
    },
    {
     "name": "stderr",
     "output_type": "stream",
     "text": [
      "100%|██████████| 100/100 [00:00<00:00, 117.73it/s]\n"
     ]
    },
    {
     "name": "stdout",
     "output_type": "stream",
     "text": [
      "Epoch [12/30], train_loss: 0.0010, val_loss: 0.0072\n",
      "Model saved to ==> test_run1.pt\n"
     ]
    },
    {
     "name": "stderr",
     "output_type": "stream",
     "text": [
      "100%|██████████| 100/100 [00:01<00:00, 86.72it/s]\n"
     ]
    },
    {
     "name": "stdout",
     "output_type": "stream",
     "text": [
      "Epoch [13/30], train_loss: 0.0008, val_loss: 0.0069\n",
      "Model saved to ==> test_run1.pt\n"
     ]
    },
    {
     "name": "stderr",
     "output_type": "stream",
     "text": [
      "100%|██████████| 100/100 [00:01<00:00, 98.26it/s]\n"
     ]
    },
    {
     "name": "stdout",
     "output_type": "stream",
     "text": [
      "Epoch [14/30], train_loss: 0.0008, val_loss: 0.0072\n"
     ]
    },
    {
     "name": "stderr",
     "output_type": "stream",
     "text": [
      "100%|██████████| 100/100 [00:00<00:00, 107.69it/s]\n"
     ]
    },
    {
     "name": "stdout",
     "output_type": "stream",
     "text": [
      "Epoch [15/30], train_loss: 0.0008, val_loss: 0.0072\n"
     ]
    },
    {
     "name": "stderr",
     "output_type": "stream",
     "text": [
      "100%|██████████| 100/100 [00:01<00:00, 84.05it/s]\n"
     ]
    },
    {
     "name": "stdout",
     "output_type": "stream",
     "text": [
      "Epoch [16/30], train_loss: 0.0008, val_loss: 0.0073\n"
     ]
    },
    {
     "name": "stderr",
     "output_type": "stream",
     "text": [
      "100%|██████████| 100/100 [00:00<00:00, 103.10it/s]\n"
     ]
    },
    {
     "name": "stdout",
     "output_type": "stream",
     "text": [
      "Epoch [17/30], train_loss: 0.0007, val_loss: 0.0073\n"
     ]
    },
    {
     "name": "stderr",
     "output_type": "stream",
     "text": [
      "100%|██████████| 100/100 [00:01<00:00, 84.61it/s]\n"
     ]
    },
    {
     "name": "stdout",
     "output_type": "stream",
     "text": [
      "Epoch [18/30], train_loss: 0.0006, val_loss: 0.0074\n"
     ]
    },
    {
     "name": "stderr",
     "output_type": "stream",
     "text": [
      "100%|██████████| 100/100 [00:01<00:00, 94.77it/s]\n"
     ]
    },
    {
     "name": "stdout",
     "output_type": "stream",
     "text": [
      "Epoch [19/30], train_loss: 0.0008, val_loss: 0.0074\n"
     ]
    },
    {
     "name": "stderr",
     "output_type": "stream",
     "text": [
      "100%|██████████| 100/100 [00:01<00:00, 73.78it/s]\n"
     ]
    },
    {
     "name": "stdout",
     "output_type": "stream",
     "text": [
      "Epoch [20/30], train_loss: 0.0006, val_loss: 0.0074\n"
     ]
    },
    {
     "name": "stderr",
     "output_type": "stream",
     "text": [
      "100%|██████████| 100/100 [00:00<00:00, 108.01it/s]\n"
     ]
    },
    {
     "name": "stdout",
     "output_type": "stream",
     "text": [
      "Epoch [21/30], train_loss: 0.0007, val_loss: 0.0074\n"
     ]
    },
    {
     "name": "stderr",
     "output_type": "stream",
     "text": [
      "100%|██████████| 100/100 [00:01<00:00, 96.36it/s]\n"
     ]
    },
    {
     "name": "stdout",
     "output_type": "stream",
     "text": [
      "Epoch [22/30], train_loss: 0.0009, val_loss: 0.0074\n"
     ]
    },
    {
     "name": "stderr",
     "output_type": "stream",
     "text": [
      "100%|██████████| 100/100 [00:01<00:00, 90.67it/s]\n"
     ]
    },
    {
     "name": "stdout",
     "output_type": "stream",
     "text": [
      "Epoch [23/30], train_loss: 0.0007, val_loss: 0.0074\n"
     ]
    },
    {
     "name": "stderr",
     "output_type": "stream",
     "text": [
      "100%|██████████| 100/100 [00:00<00:00, 114.48it/s]\n"
     ]
    },
    {
     "name": "stdout",
     "output_type": "stream",
     "text": [
      "Epoch [24/30], train_loss: 0.0010, val_loss: 0.0074\n"
     ]
    },
    {
     "name": "stderr",
     "output_type": "stream",
     "text": [
      "100%|██████████| 100/100 [00:00<00:00, 101.66it/s]\n"
     ]
    },
    {
     "name": "stdout",
     "output_type": "stream",
     "text": [
      "Epoch [25/30], train_loss: 0.0009, val_loss: 0.0074\n"
     ]
    },
    {
     "name": "stderr",
     "output_type": "stream",
     "text": [
      "100%|██████████| 100/100 [00:00<00:00, 115.50it/s]\n"
     ]
    },
    {
     "name": "stdout",
     "output_type": "stream",
     "text": [
      "Epoch [26/30], train_loss: 0.0006, val_loss: 0.0074\n"
     ]
    },
    {
     "name": "stderr",
     "output_type": "stream",
     "text": [
      "100%|██████████| 100/100 [00:00<00:00, 105.68it/s]\n"
     ]
    },
    {
     "name": "stdout",
     "output_type": "stream",
     "text": [
      "Epoch [27/30], train_loss: 0.0008, val_loss: 0.0074\n"
     ]
    },
    {
     "name": "stderr",
     "output_type": "stream",
     "text": [
      "100%|██████████| 100/100 [00:01<00:00, 99.33it/s]\n"
     ]
    },
    {
     "name": "stdout",
     "output_type": "stream",
     "text": [
      "Epoch [28/30], train_loss: 0.0006, val_loss: 0.0073\n"
     ]
    },
    {
     "name": "stderr",
     "output_type": "stream",
     "text": [
      "100%|██████████| 100/100 [00:01<00:00, 96.00it/s]\n"
     ]
    },
    {
     "name": "stdout",
     "output_type": "stream",
     "text": [
      "Epoch [29/30], train_loss: 0.0008, val_loss: 0.0073\n"
     ]
    },
    {
     "name": "stderr",
     "output_type": "stream",
     "text": [
      "100%|██████████| 100/100 [00:01<00:00, 95.74it/s]\n"
     ]
    },
    {
     "name": "stdout",
     "output_type": "stream",
     "text": [
      "Epoch [30/30], train_loss: 0.0008, val_loss: 0.0074\n",
      "Finished Training!!\n"
     ]
    }
   ],
   "source": [
    "#todo\n",
    "from tqdm import tqdm \n",
    "\n",
    "lr = 1e-5\n",
    "hidden_units = 16\n",
    "\n",
    "model = RegressionLSTM(batch_size=batch_len)\n",
    "model.to(device)\n",
    "loss_fn = nn.MSELoss()\n",
    "\n",
    "optimizer = torch.optim.Adam(model.parameters(), lr = lr)\n",
    "num_epochs = 30\n",
    "\n",
    "save_path = 'test_run1.pt'\n",
    "train_losses, val_losses = train(model, train_loader, val_loader, \n",
    "                                num_epochs, loss_fn, save_path)"
   ]
  },
  {
   "cell_type": "code",
   "execution_count": 35,
   "id": "22c5bd71",
   "metadata": {},
   "outputs": [
    {
     "data": {
      "text/plain": [
       "[0.02678372997504014, 0.025884041419396035]"
      ]
     },
     "execution_count": 35,
     "metadata": {},
     "output_type": "execute_result"
    }
   ],
   "source": [
    "val_losses \n",
    "# train_losses"
   ]
  },
  {
   "cell_type": "code",
   "execution_count": 37,
   "id": "080c7a37",
   "metadata": {},
   "outputs": [
    {
     "data": {
      "image/png": "[encoded data removed]",
      "text/plain": [
       "<Figure size 432x288 with 1 Axes>"
      ]
     },
     "metadata": {
      "needs_background": "light"
     },
     "output_type": "display_data"
    }
   ],
   "source": [
    "#plotting training vs validation loss\n",
    "\n",
    "#maybe add more layers to the model, or decrease the learning rate\n",
    "\n",
    "import matplotlib.pyplot as plt\n",
    "plt.xlabel('epoch')\n",
    "plt.ylabel('loss')\n",
    "plt.plot(train_losses, label='Train Loss')\n",
    "plt.plot(val_losses, label=\"Validation Loss\")\n",
    "plt.legend(bbox_to_anchor=(1.05, 1.0), loc='upper left')\n",
    "plt.show()"
   ]
  },
  {
   "cell_type": "markdown",
   "id": "2c7f947d",
   "metadata": {},
   "source": [
    "### workspace"
   ]
  },
  {
   "cell_type": "code",
   "execution_count": 22,
   "id": "58348edd",
   "metadata": {},
   "outputs": [
    {
     "name": "stderr",
     "output_type": "stream",
     "text": [
      "100%|██████████| 100/100 [00:20<00:00,  4.98it/s]\n"
     ]
    }
   ],
   "source": [
    "from tqdm import tqdm\n",
    "\n",
    "from tqdm import tqdm \n",
    "\n",
    "lr = 1e-5\n",
    "hidden_units = 16\n",
    "\n",
    "model = RegressionLSTM(batch_size=batch_len)\n",
    "loss_fn = nn.MSELoss()\n",
    "\n",
    "optimizer = torch.optim.Adam(model.parameters(), lr = lr)\n",
    "\n",
    "total_loss = 0\n",
    "# num_batches = \n",
    "model.train()\n",
    "\n",
    "for X,y in tqdm(train_loader):\n",
    "    output = model(X)\n",
    "    loss = loss_fn(output,y)\n",
    "    \n",
    "    optimizer.zero_grad()\n",
    "    loss.backward()\n",
    "    optimizer.step()\n",
    "\n",
    "    total_loss += loss.item()\n",
    "\n",
    "with torch.no_grad():\n",
    "    model.eval()\n",
    "    for X,y in val_loader:\n",
    "        output = model(X)\n",
    "        loss = loss_fn(output, y)"
   ]
  },
  {
   "cell_type": "code",
   "execution_count": 20,
   "id": "176b3ea3",
   "metadata": {},
   "outputs": [],
   "source": [
    "val_running_loss = 0.0\n",
    "\n",
    "with torch.no_grad():\n",
    "    model.eval()\n",
    "    for X,y in val_loader:\n",
    "        output = model(X)\n",
    "        loss = loss_fn(output, y)\n",
    "    val_running_loss += loss\n",
    "    "
   ]
  },
  {
   "cell_type": "markdown",
   "id": "da139d5b",
   "metadata": {},
   "source": [
    "## Evaluation"
   ]
  },
  {
   "cell_type": "code",
   "execution_count": 7,
   "id": "ebed03ba",
   "metadata": {},
   "outputs": [],
   "source": [
    "#todo : evaluate the model performance on the test set\n",
    "#check the training example it performs the worst on \n",
    "#try to obtain possible reasons for such performance"
   ]
  },
  {
   "cell_type": "code",
   "execution_count": null,
   "id": "17af7ec3",
   "metadata": {},
   "outputs": [],
   "source": []
  },
  {
   "cell_type": "code",
   "execution_count": null,
   "id": "43a3422e",
   "metadata": {},
   "outputs": [],
   "source": []
  },
  {
   "cell_type": "markdown",
   "id": "9a59808b",
   "metadata": {},
   "source": [
    "# Task 3.2"
   ]
  },
  {
   "cell_type": "markdown",
   "id": "f64a855d",
   "metadata": {},
   "source": [
    "## Data Handling and Preprocessing"
   ]
  },
  {
   "cell_type": "markdown",
   "id": "24b29ecd",
   "metadata": {},
   "source": [
    "We create a `collate_batch` method which produces batches of source and target sentences. This method will be used in the 'DataLoader' which enables us to iterate over the dataset in batches. In each iteration, a batch of input and output simulations would be returned. We pad all the sequences to the length of the longest simulation in the batch then we pack the padded simulation for better performance. "
   ]
  },
  {
   "cell_type": "code",
   "execution_count": 157,
   "id": "0ec19a8d",
   "metadata": {},
   "outputs": [],
   "source": [
    "def collate_batch_32(batch):\n",
    "    '''\n",
    "    Args:\n",
    "        batch: batch sizes list of tuples (features, target)\n",
    "    \n",
    "    Returns:\n",
    "        packed input simulation and corresponding targets\n",
    "    \n",
    "    '''\n",
    "    data = [torch.from_numpy(item[0]).float() for item in batch]\n",
    "    data_lengths = [d.size(0) for d in data]\n",
    "\n",
    "    padded_data = pad_sequence(data, batch_first=True, padding_value=0)\n",
    "    # packed_data = pack_padded_sequence(padded_data, data_lengths, batch_first=True, enforce_sorted=False)\n",
    "\n",
    "    # targets = np.array([item[1] for item in batch],dtype=object)\n",
    "    targets = [torch.from_numpy(item[1]).float() for item in batch]\n",
    "    target_lengths = [t.size(0) for t in targets]\n",
    "    padded_target = pad_sequence(targets, padding_value= 0)\n",
    "    # packed_target = pack_padded_sequence(padded_target, target_lengths, batch_first=True, enforce_sorted=False)\n",
    "\n",
    "    return padded_data.to(device), padded_target.to(device) \n",
    "\n",
    "    # return packed_data.to(device), packed_target.to(device) "
   ]
  },
  {
   "cell_type": "code",
   "execution_count": 214,
   "id": "5b935865",
   "metadata": {},
   "outputs": [],
   "source": [
    "batch_len = 10\n",
    "train_loader_32 = DataLoader(tuple(zip(simulation_train_task32, simulation_continued_train[:])), batch_size = batch_len, \n",
    "                        collate_fn = collate_batch_32)"
   ]
  },
  {
   "cell_type": "markdown",
   "id": "28a00b12",
   "metadata": {},
   "source": [
    "### workspace"
   ]
  },
  {
   "cell_type": "code",
   "execution_count": 215,
   "id": "20a53997",
   "metadata": {},
   "outputs": [
    {
     "name": "stdout",
     "output_type": "stream",
     "text": [
      "torch.Size([58, 10, 2])\n"
     ]
    }
   ],
   "source": [
    "for batch, target in train_loader_32:\n",
    "    print(target.shape)\n",
    "    break"
   ]
  },
  {
   "cell_type": "code",
   "execution_count": 22,
   "id": "8f189d19",
   "metadata": {},
   "outputs": [
    {
     "name": "stdout",
     "output_type": "stream",
     "text": [
      "3\n"
     ]
    }
   ],
   "source": [
    "for batch in train_loader:\n",
    "    print(len(batch[1][0]))\n",
    "    # print(batch[1][2])\n",
    "    break"
   ]
  },
  {
   "cell_type": "code",
   "execution_count": 56,
   "id": "5a5e9208",
   "metadata": {},
   "outputs": [],
   "source": [
    "batch = list(zip(simulation_train_task32[:3],simulation_continued_train[:3]))\n",
    "\n",
    "data = [torch.from_numpy(item[0]).float() for item in batch]\n",
    "lengths = [d.size(0) for d in data]\n",
    "\n",
    "padded_data = pad_sequence(data, batch_first=True, padding_value=0)\n",
    "packed_data = pack_padded_sequence(padded_data, lengths, batch_first=True, enforce_sorted=False)"
   ]
  },
  {
   "cell_type": "code",
   "execution_count": 95,
   "id": "111784d3",
   "metadata": {},
   "outputs": [
    {
     "name": "stderr",
     "output_type": "stream",
     "text": [
      "C:\\Users\\Srinidhi Ilango\\AppData\\Local\\Temp\\ipykernel_7064\\3918783295.py:1: FutureWarning: The input object of type 'Tensor' is an array-like implementing one of the corresponding protocols (`__array__`, `__array_interface__` or `__array_struct__`); but not a sequence (or 0-D). In the future, this object will be coerced as if it was first converted using `np.array(obj)`. To retain the old behaviour, you have to either modify the type 'Tensor', or assign to an empty array created with `np.empty(correct_shape, dtype=object)`.\n",
      "  targets = np.array([item[1] for item in batch],dtype=object)\n"
     ]
    }
   ],
   "source": [
    "targets = np.array([item[1] for item in batch],dtype=object)\n"
   ]
  },
  {
   "cell_type": "markdown",
   "id": "867aabb3",
   "metadata": {},
   "source": [
    "## Model Implementation"
   ]
  },
  {
   "cell_type": "markdown",
   "id": "7ab521d1",
   "metadata": {},
   "source": [
    "In the implementation we define three objects: the encoder, the decoder and a full translation model that encapsulates the encoder and decoder."
   ]
  },
  {
   "cell_type": "code",
   "execution_count": 216,
   "id": "36fe2739",
   "metadata": {},
   "outputs": [],
   "source": [
    "#todo https://github.com/lkulowski/LSTM_encoder_decoder/blob/master/code/lstm_encoder_decoder.py\n",
    "\n",
    "class Encoder(nn.Module):\n",
    "    def __init__(self, inp_size=2, hidden_size=110, n_layers=2, batch_size= batch_len, dropout=0.5):\n",
    "        super(Encoder, self).__init__()\n",
    "\n",
    "        self.inp_size = inp_size\n",
    "        self.hidden_size = hidden_size\n",
    "        self.n_layers = n_layers\n",
    "        self.batch_size = batch_size\n",
    "\n",
    "        self.rnn = nn.LSTM(\n",
    "            input_size = self.inp_size,\n",
    "            hidden_size = self.hidden_size,\n",
    "            num_layers = self.n_layers,\n",
    "            dropout = dropout,\n",
    "            batch_first = True\n",
    "        )\n",
    "\n",
    "    def forward(self, X):\n",
    "        \"\"\"\n",
    "        Forward pass of encoder model. It aims at\n",
    "        transforming the input sentence to a dense vector \n",
    "        \n",
    "        Input:\n",
    "        src shape:  [max_seq_len_in_batch, batch_size]\n",
    "\n",
    "        Output:\n",
    "        hidden and cell dense vectors (hidden and cell)\n",
    "        which contains all sentence information, shape [n layers, batch size, hid dim]\n",
    "        \"\"\"\n",
    "        \n",
    "        ### Your code here ###\n",
    "        #src = [src len, batch size]\n",
    "\n",
    "        _, (hidden, cell) = self.rnn(X)\n",
    "        \n",
    "        return hidden, cell"
   ]
  },
  {
   "cell_type": "code",
   "execution_count": 107,
   "id": "fdbf2800",
   "metadata": {},
   "outputs": [],
   "source": [
    "class Decoder(nn.Module):\n",
    "    def __init__(self, input_size =2, hid_dim=110, n_layers=2, dropout=0.5):\n",
    "        super().__init__()\n",
    "        \n",
    "        \n",
    "        self.input_size = input_size\n",
    "        self.hid_dim = hid_dim\n",
    "        self.n_layers = n_layers\n",
    "        \n",
    "        ### Your code here ###\n",
    "        # self.embedding = nn.Embedding(1, emb_dim)\n",
    "        \n",
    "        self.rnn = nn.LSTM(input_size, hid_dim, n_layers, dropout = dropout)\n",
    "        \n",
    "        self.fc_out = nn.Linear(hid_dim, input_size)\n",
    "        \n",
    "        self.dropout = nn.Dropout(dropout)\n",
    "    \n",
    "        \n",
    "    def forward(self, input, encoder_hidden, encoder_cell):\n",
    "        \"\"\"\n",
    "        Forward pass of the decoder model. It aims at transforming\n",
    "        the dense representation of the encoder into a sentence in\n",
    "        the target language\n",
    "        \n",
    "        Input:\n",
    "        hidden shape: [n layers, batch size, hid dim]\n",
    "        cell shape: [n layers, batch size, hid dim]\n",
    "        input shape: [batch size]  # 1 token for each sentence in the batch\n",
    "        \n",
    "        Output:\n",
    "        prediction shape: [batch size, num_words_target_vocabulary]\n",
    "        hidden shape: [n layers, batch size, hid dim]\n",
    "        cell shape: [n layers, batch size, hid dim]\n",
    "        \"\"\"\n",
    "        \n",
    "       \n",
    "        lstm_out, (self.hidden, self.cell) = self.rnn(input.unsqueeze(0), (encoder_hidden, encoder_cell))\n",
    "          \n",
    "        output = self.fc_out(lstm_out.squeeze(0))  # squeeze our 'sequence length 1' away\n",
    "        \n",
    "        return output, self.hidden, self.cell"
   ]
  },
  {
   "cell_type": "code",
   "execution_count": 220,
   "id": "b3959378",
   "metadata": {},
   "outputs": [],
   "source": [
    "import torch.optim as optim\n",
    "import random\n",
    "\n",
    "class lstm_seq2seq(nn.Module):\n",
    "    '''Train LSTM encoder-decoder and make predictions '''\n",
    "    def __init__(self, encoder, decoder, device):\n",
    "        super().__init__()\n",
    "        self.encoder = encoder\n",
    "        self.decoder = decoder\n",
    "        self.device = device\n",
    "\n",
    "        self.optimizer = optim.Adam(self.parameters())\n",
    "        # self.criterion = nn.MSELoss()\n",
    "\n",
    "    def forward(self, src, trg, teacher_forcing_ration=0.5):\n",
    "        # calculate number of batch iterations\n",
    "        trg_len = trg.shape[0]\n",
    "        outputs = torch.zeros(trg_len, batch_len,2).to(device)\n",
    "\n",
    "        hidden,cell = self.encoder(src)\n",
    "\n",
    "        decoder_input = hidden[:,:,-1].T\n",
    "\n",
    "        for t in range(1, trg_len):\n",
    "\n",
    "            decoder_output, hidden, cell = decoder(decoder_input, hidden, cell)\n",
    "            outputs[t] = decoder_output\n",
    "            teacher_force = random.random() < teacher_forcing_ratio \n",
    "            decoder_input = trg[t,:,:] if teacher_force else decoder_output\n",
    "\n",
    "        return outputs        "
   ]
  },
  {
   "cell_type": "code",
   "execution_count": 196,
   "id": "30655e26",
   "metadata": {},
   "outputs": [],
   "source": [
    "def rmse_loss(input, target, ignored_index, reduction='mean'):\n",
    "    mask = target == ignored_index\n",
    "    out = (input[~mask]-target[~mask])**2\n",
    "    if reduction == \"mean\":\n",
    "        return torch.sqrt(out.mean())\n",
    "    elif reduction == \"None\":\n",
    "        return out"
   ]
  },
  {
   "cell_type": "markdown",
   "id": "77ce37af",
   "metadata": {},
   "source": [
    "### workspace"
   ]
  },
  {
   "cell_type": "code",
   "execution_count": 141,
   "id": "3c972f9f",
   "metadata": {},
   "outputs": [
    {
     "name": "stdout",
     "output_type": "stream",
     "text": [
      "<class 'torch.Tensor'>\n"
     ]
    }
   ],
   "source": [
    "for X,y in train_loader_32:\n",
    "    print(type(X))\n",
    "    break"
   ]
  },
  {
   "cell_type": "code",
   "execution_count": 85,
   "id": "f80b1ca2",
   "metadata": {},
   "outputs": [],
   "source": [
    "en_model = Encoder(batch_size=3, n_layers=2)\n",
    "en_model.train()\n",
    "en_model.to(device)\n",
    "for X,y in train_loader_32:\n",
    "    output = en_model(X)\n",
    "    break \n"
   ]
  },
  {
   "cell_type": "code",
   "execution_count": 165,
   "id": "0c0748fb",
   "metadata": {},
   "outputs": [],
   "source": [
    "import random\n",
    "batch_size = batch_len\n",
    "\n",
    "encoder = Encoder(n_layers=2).to(device)\n",
    "decoder = Decoder().to(device)\n",
    "teacher_forcing_ratio=0.5\n",
    "\n",
    "# criterion = nn.MSELoss(ignore_index = 0)\n",
    "\n",
    "for src, trg in train_loader_32:\n",
    "\n",
    "    trg_len = trg.shape[0]\n",
    "    outputs = torch.zeros(trg_len, batch_size,2).to(device)\n",
    "\n",
    "    hidden,cell = encoder(src)  \n",
    "    decoder_input = hidden[:,:,-1].T\n",
    "    # print(de_input.T.shape)\n",
    "\n",
    "    for t in range(1, trg_len):\n",
    "\n",
    "        decoder_output, hidden, cell = decoder(decoder_input, hidden, cell)\n",
    "        outputs[t] = decoder_output\n",
    "        teacher_force = random.random() < teacher_forcing_ratio \n",
    "        decoder_input = trg[t,:,:] if teacher_force else decoder_output\n",
    "        # break\n",
    "\n",
    "    break\n",
    "\n"
   ]
  },
  {
   "cell_type": "markdown",
   "id": "826fae3f",
   "metadata": {},
   "source": [
    "## Model Training"
   ]
  },
  {
   "cell_type": "code",
   "execution_count": 221,
   "id": "db3fce95",
   "metadata": {},
   "outputs": [
    {
     "data": {
      "text/plain": [
       "lstm_seq2seq(\n",
       "  (encoder): Encoder(\n",
       "    (rnn): LSTM(2, 110, num_layers=2, batch_first=True, dropout=0.5)\n",
       "  )\n",
       "  (decoder): Decoder(\n",
       "    (rnn): LSTM(2, 110, num_layers=2, dropout=0.5)\n",
       "    (fc_out): Linear(in_features=110, out_features=2, bias=True)\n",
       "    (dropout): Dropout(p=0.5, inplace=False)\n",
       "  )\n",
       ")"
      ]
     },
     "execution_count": 221,
     "metadata": {},
     "output_type": "execute_result"
    }
   ],
   "source": [
    "#todo\n",
    "enc = encoder = Encoder(n_layers=2)\n",
    "dec = Decoder()\n",
    "\n",
    "seq2seq = lstm_seq2seq(enc, dec, device).to(device)\n",
    "\n",
    "def init_weights(m):\n",
    "    for name, param in m.named_parameters():\n",
    "        nn.init.uniform_(param.data, -0.08, 0.08)\n",
    "        \n",
    "seq2seq.apply(init_weights)"
   ]
  },
  {
   "cell_type": "code",
   "execution_count": null,
   "id": "41ddb47d",
   "metadata": {},
   "outputs": [],
   "source": [
    "from tqdm import tqdm\n",
    "\n",
    "seq2seq.train()\n",
    "CLIP =1\n",
    "clip = CLIP\n",
    "num_epochs = 20\n",
    "\n",
    "for epoch in range(num_epochs):\n",
    "    epoch_loss = 0\n",
    "    for src, trg in tqdm(train_loader_32):\n",
    "        seq2seq.optimizer.zero_grad()\n",
    "        output = seq2seq(src, trg)\n",
    "        loss = rmse_loss(output, trg, ignored_index=0)\n",
    "        loss.backward()\n",
    "\n",
    "        torch.nn.utils.clip_grad_norm_(seq2seq.parameters(), clip)\n",
    "        seq2seq.optimizer.step()\n",
    "        epoch_loss += loss.item()\n",
    "        torch.cuda.empty_cache()\n",
    "        # break\n",
    "    print(epoch_loss/len(train_loader_32))\n",
    "    "
   ]
  },
  {
   "cell_type": "markdown",
   "id": "c87278a2",
   "metadata": {},
   "source": [
    "## Evaluation"
   ]
  },
  {
   "cell_type": "code",
   "execution_count": 11,
   "id": "2cbb6137",
   "metadata": {},
   "outputs": [],
   "source": [
    "#todo"
   ]
  },
  {
   "cell_type": "code",
   "execution_count": null,
   "id": "2cf6f4b7",
   "metadata": {},
   "outputs": [],
   "source": []
  },
  {
   "cell_type": "code",
   "execution_count": null,
   "id": "736c10d8",
   "metadata": {},
   "outputs": [],
   "source": []
  }
 ],
 "metadata": {
  "interpreter": {
   "hash": "adc65bd17b90bc81ceb5a25ba99c9506844573e4b95946b15baa885a4f73e2ea"
  },
  "kernelspec": {
   "display_name": "Python 3.9.12 ('dl')",
   "language": "python",
   "name": "python3"
  },
  "language_info": {
   "codemirror_mode": {
    "name": "ipython",
    "version": 3
   },
   "file_extension": ".py",
   "mimetype": "text/x-python",
   "name": "python",
   "nbconvert_exporter": "python",
   "pygments_lexer": "ipython3",
   "version": "3.9.12"
  }
 },
 "nbformat": 4,
 "nbformat_minor": 5
}
